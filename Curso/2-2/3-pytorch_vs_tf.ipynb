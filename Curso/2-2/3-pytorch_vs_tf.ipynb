{
 "cells": [
  {
   "cell_type": "markdown",
   "metadata": {},
   "source": [
    "<div>\n",
    "<img src=\"https://www.imaginarycloud.com/blog/content/images/2021/04/pytorchvs_cover.png\" \n",
    "   width=\"500\" style=\"margin: 5px auto; display: block; position: relative; left: -20px;\" />\n",
    "</div>\n",
    "\n",
    "<!--NAVIGATION-->\n",
    "# [PyTorch Primer](2-pytorch.ipynb) | PyT vs TF"
   ]
  },
  {
   "cell_type": "markdown",
   "metadata": {},
   "source": [
    "## Submodule -1.4 : A Primer on PyTorch and Tensorflow"
   ]
  },
  {
   "cell_type": "markdown",
   "metadata": {},
   "source": [
    "## Table of Contents\n",
    "\n",
    "#### 1. [Gradient: PyTorch vs TensorFlow](#Gradient:-PyTorch-vs-TensorFlow)\n"
   ]
  },
  {
   "cell_type": "markdown",
   "metadata": {},
   "source": [
    "# Gradient: PyTorch vs TensorFlow"
   ]
  },
  {
   "cell_type": "code",
   "execution_count": 8,
   "metadata": {},
   "outputs": [
    {
     "name": "stdout",
     "output_type": "stream",
     "text": [
      "First derivative of sin(x): 20.08553695678711 and actual gradient: 20.085536923187668\n"
     ]
    }
   ],
   "source": [
    "# In TensorFlow\n",
    "import tensorflow as tf\n",
    "import numpy as np\n",
    "\n",
    "x = 3.0\n",
    "x_tensor = tf.constant(3.0)\n",
    "with tf.GradientTape() as g:\n",
    "    g.watch(x_tensor)\n",
    "    y = tf.exp(x_tensor)\n",
    "\n",
    "dy_dx = g.gradient(y, x_tensor)\n",
    "\n",
    "print(f\"In TF2 First derivative of exp(x): {dy_dx} and actual gradient: {np.exp(x)}\")"
   ]
  },
  {
   "cell_type": "code",
   "execution_count": 15,
   "metadata": {},
   "outputs": [
    {
     "name": "stdout",
     "output_type": "stream",
     "text": [
      "First derivative of sin(x): 20.08553695678711 and actual gradient: 20.085536923187668\n"
     ]
    }
   ],
   "source": [
    "# In TensorFlow\n",
    "import torch\n",
    "import numpy as np\n",
    "x_fl = 3.0\n",
    "x = torch.tensor(3.0, requires_grad = True)\n",
    "y = torch.exp(x)\n",
    "y.backward()  \n",
    "dy_dx = x.grad.data #=: dy/dx \n",
    "print(f\"First derivative of sin(x): {dy_dx} and actual gradient: {np.exp(x_fl)}\")"
   ]
  },
  {
   "cell_type": "code",
   "execution_count": null,
   "metadata": {},
   "outputs": [],
   "source": []
  }
 ],
 "metadata": {
  "kernelspec": {
   "display_name": "Python 3",
   "language": "python",
   "name": "python3"
  },
  "language_info": {
   "codemirror_mode": {
    "name": "ipython",
    "version": 3
   },
   "file_extension": ".py",
   "mimetype": "text/x-python",
   "name": "python",
   "nbconvert_exporter": "python",
   "pygments_lexer": "ipython3",
   "version": "3.8.8"
  }
 },
 "nbformat": 4,
 "nbformat_minor": 4
}
