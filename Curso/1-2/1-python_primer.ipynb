{
 "cells": [
  {
   "cell_type": "markdown",
   "id": "a1a8408a",
   "metadata": {},
   "source": [
    "<div>\n",
    "<img src=\"https://cdn3.iconfinder.com/data/icons/logos-and-brands-adobe/512/267_Python-512.png\" width=\"150\" style=\"margin: 5px auto; display: block; position: relative; left: -30px;\" />\n",
    "</div>\n"
   ]
  },
  {
   "cell_type": "markdown",
   "id": "77fd1c51",
   "metadata": {},
   "source": [
    "## Submodule -1.2 : A primer on Python and NumPy, SciPy and Matplotlib"
   ]
  },
  {
   "cell_type": "markdown",
   "id": "0792af43",
   "metadata": {},
   "source": [
    "## Table of Contents\n",
    "#### 1. [Basics of Python](#Basics-of-Python)\n",
    "#### 2. [Basics of NumPy Arrays ](#Basics-of-NumPy-Arrays )\n",
    "#### 3. [NumPy Array Attributes](#NumPy-Array-Attributes)\n",
    "#### 4. [Fancy Indexing](#Fancy-Indexing)\n",
    "#### 5. [Basics of SciPy](#Basics-of-SciPy)"
   ]
  },
  {
   "cell_type": "markdown",
   "id": "bbd3f65f",
   "metadata": {},
   "source": [
    "## Basics of Python"
   ]
  },
  {
   "cell_type": "code",
   "execution_count": 196,
   "id": "59531e5c",
   "metadata": {},
   "outputs": [
    {
     "name": "stdout",
     "output_type": "stream",
     "text": [
      "Hello mmCRUNCH!\n"
     ]
    }
   ],
   "source": [
    "print(\"Hello mmCRUNCH!\")"
   ]
  },
  {
   "cell_type": "markdown",
   "id": "da7d7de6",
   "metadata": {},
   "source": [
    "###### Declaring and Printing variables in Python3\n",
    "In Python we don't require the declaration of variables, we can intialize the variable by typing it out."
   ]
  },
  {
   "cell_type": "code",
   "execution_count": 197,
   "id": "ec344a5f",
   "metadata": {},
   "outputs": [
    {
     "name": "stdout",
     "output_type": "stream",
     "text": [
      "The value of integer x is 3.\n",
      "The value of float is 3.0\n",
      "String x is: Deep Learning is a cool subject.\n"
     ]
    }
   ],
   "source": [
    "x = 3\n",
    "print(f\"The value of integer x is {x}.\")\n",
    "x = 3.0\n",
    "\n",
    "print(f\"The value of float is {x}\")\n",
    "\n",
    "x = \"Deep Learning is a cool subject.\"\n",
    "print(f\"String x is: {x}\")\n"
   ]
  },
  {
   "cell_type": "markdown",
   "id": "262a4c00",
   "metadata": {},
   "source": [
    "###### Code structure:\n",
    "In python indentation is mandatory. In other programming language indentation is optional and curly braces, tab are used to denote the block of code at a level. In Python there is no begin and end structure and identation of a code block represnts a level in the code. For example below is the block for ***if, else if***  and ***else*** represntation."
   ]
  },
  {
   "cell_type": "code",
   "execution_count": 198,
   "id": "dfbc171a",
   "metadata": {},
   "outputs": [
    {
     "name": "stdout",
     "output_type": "stream",
     "text": [
      "Value of x is greater than 1.\n"
     ]
    }
   ],
   "source": [
    "x = 2\n",
    "if x > 1:\n",
    "    print(\"Value of x is greater than 1.\")\n",
    "\n",
    "elif x < 1:\n",
    "    print(\"Value of x is less than 1.\")\n",
    "else:\n",
    "    print(\"No conditional statement on x.\")"
   ]
  },
  {
   "cell_type": "code",
   "execution_count": 199,
   "id": "e38e0791",
   "metadata": {},
   "outputs": [
    {
     "name": "stdout",
     "output_type": "stream",
     "text": [
      " String in double quotes is printed.\n",
      " String in single quotes is printed.\n"
     ]
    }
   ],
   "source": [
    "s = \"String in double quotes\"\n",
    "print(f\" {s} is printed.\")\n",
    "s = 'String in single quotes'\n",
    "print(f\" {s} is printed.\")"
   ]
  },
  {
   "cell_type": "markdown",
   "id": "e90f8cf0",
   "metadata": {},
   "source": [
    "Strings are spanned in multiple lines using triple quotes "
   ]
  },
  {
   "cell_type": "code",
   "execution_count": 200,
   "id": "07d50684",
   "metadata": {},
   "outputs": [
    {
     "name": "stdout",
     "output_type": "stream",
     "text": [
      " Multiline represntation are: This line spans in multiline comments,\n",
      "     and here is the second line.\n",
      "\n"
     ]
    }
   ],
   "source": [
    "s= \"\"\"This line spans in multiline comments,\n",
    "     and here is the second line.\n",
    "\"\"\"\n",
    "print(f\" Multiline represntation are: {s}\")"
   ]
  },
  {
   "cell_type": "markdown",
   "id": "e93ef252",
   "metadata": {},
   "source": [
    "###### Cmment in Python\n",
    "In Python a line of the code is commented by prepending it with ****#****."
   ]
  },
  {
   "cell_type": "code",
   "execution_count": 201,
   "id": "5cbff282",
   "metadata": {},
   "outputs": [],
   "source": [
    "# This line is not to be considered for execution\n",
    "\n"
   ]
  },
  {
   "cell_type": "markdown",
   "id": "748b0f49",
   "metadata": {},
   "source": [
    "###### Objects in Python"
   ]
  },
  {
   "cell_type": "markdown",
   "id": "b5f37ec5",
   "metadata": {},
   "source": [
    "In Python every thing is an ***object*** of some ***class***. This means everything in Python is invoked as an instantion of Python or user defined class. These classes are bind to the methods or function attributed to that class. For example in below cell a variable ***x*** is declared and the ***class** of the variable ***x*** is obtained by invoking ****type(x)****. The methods or subroutines which is predefined by Python can be invoked as ***dir(x)***"
   ]
  },
  {
   "cell_type": "code",
   "execution_count": 202,
   "id": "35745eea",
   "metadata": {},
   "outputs": [
    {
     "name": "stdout",
     "output_type": "stream",
     "text": [
      " Type of x is: <class 'int'>\n"
     ]
    }
   ],
   "source": [
    "x = 5\n",
    "print(f\" Type of x is: {type(x)}\")\n",
    "#help(x)\n"
   ]
  },
  {
   "cell_type": "markdown",
   "id": "3c4047b0",
   "metadata": {},
   "source": [
    "###### Importing a module\n",
    "\n",
    "To import a module, a collection of classes and methods, we use ****import*** keyword. for example ***numpy*** and ***scipy*** are availble package and can be imported in the environment as\n"
   ]
  },
  {
   "cell_type": "code",
   "execution_count": 203,
   "id": "4b15d795",
   "metadata": {},
   "outputs": [
    {
     "name": "stdout",
     "output_type": "stream",
     "text": [
      "Type of Numpy is: <class 'module'> and type of SciPy is <class 'module'>\n",
      "Type of np.pi is <class 'float'> and Type of <class 'numpy.ufunc'>\n"
     ]
    }
   ],
   "source": [
    "import numpy as np\n",
    "import scipy as sp\n",
    "\n",
    "print(f\"Type of Numpy is: {type(np)} and type of SciPy is {type(sp)}\")\n",
    "\n",
    "print(f\"Type of np.pi is {type(np.pi)} and Type of {type(np.sin)}\")\n"
   ]
  },
  {
   "cell_type": "markdown",
   "id": "e86449aa",
   "metadata": {},
   "source": [
    "In above example np and sp are classes and np.pi is instantiation class float. The np.sin is *ufunc which is an abbreviation of universal function and considered as method of np class."
   ]
  },
  {
   "cell_type": "markdown",
   "id": "53136ad6",
   "metadata": {},
   "source": [
    "###### For loop in Python\n"
   ]
  },
  {
   "cell_type": "code",
   "execution_count": 204,
   "id": "708135e7",
   "metadata": {},
   "outputs": [
    {
     "name": "stdout",
     "output_type": "stream",
     "text": [
      "Hello world from 0th iteration!\n",
      "Hello world from 2th iteration!\n",
      "Hello world from 4th iteration!\n"
     ]
    }
   ],
   "source": [
    "# Printing hello world six times:\n",
    "# We use range function which takes the argument as: range(start, stop, increment)\n",
    "for i in range(0,6,2):\n",
    "    print(f\"Hello world from {i}th iteration!\")\n"
   ]
  },
  {
   "cell_type": "markdown",
   "id": "4252a0c9",
   "metadata": {},
   "source": [
    "###### Data structures in Python:\n",
    "1) List: [ ] array type data structures and mutable, which means this type of data structure can be modified. \n",
    "2) Tuple: ( ) is like list but immutable.\n",
    "3) Dictionary: { }: The dictionary data structure based on hash table and data is stored in ***key:value*** form."
   ]
  },
  {
   "cell_type": "code",
   "execution_count": 205,
   "id": "8c53eb55",
   "metadata": {
    "scrolled": true
   },
   "outputs": [
    {
     "name": "stdout",
     "output_type": "stream",
     "text": [
      "Original list x : [2, 3, 4, 5, 6] \n",
      " List x after append operation: [2, 3, 4, 5, 6, 7]\n",
      " List x after pop operation: [2, 3, 4, 5, 6]\n",
      " Length of the list is: len(x)\n",
      "In forward direction: element at positive index 0 is: 2\n",
      "In forward direction: element at positive index 1 is: 3\n",
      "In forward direction: element at positive index 2 is: 4\n",
      "In forward direction: element at positive index 3 is: 5\n",
      "In forward direction: element at positive index 4 is: 6\n",
      "********************************************************\n",
      "********************************************************\n",
      "********************************************************\n",
      "In backward direction: element at neagtive index 0 is: 2\n",
      "In backward direction: element at neagtive index -1 is: 6\n",
      "In backward direction: element at neagtive index -2 is: 5\n",
      "In backward direction: element at neagtive index -3 is: 4\n",
      "In backward direction: element at neagtive index -4 is: 3\n"
     ]
    }
   ],
   "source": [
    "# List\n",
    "x = [2, 3, 4, 5, 6]\n",
    "print(f\"Original list x : {x} \")\n",
    "\n",
    "# Modifying x by adding the data: # Removing the data from the list using the pop method.\n",
    "# List behave as a Stack data structure and insertion and deletion of data from the list is based on LIFO \n",
    "# approach, i.e., Last In First Out.\n",
    "# Insertion is done using the append method and deletion is done using the pop method.\n",
    "# Invoking append method on a list will add the element in last and using pop method will remove the last element \n",
    "# the list.\n",
    "\n",
    "#Append-\n",
    "x.append(7)\n",
    "print(f\" List x after append operation: {x}\")\n",
    "\n",
    "# Pop\n",
    "x.pop()\n",
    "\n",
    "print(f\" List x after pop operation: {x}\")\n",
    "\n",
    "# Length of the list using len method\n",
    "print(f\" Length of the list is: len(x)\")\n",
    "\n",
    "# Indexing in List: In python the indexing starts from 0\n",
    "\n",
    "for i in range(len(x)):\n",
    "    print(f\"In forward direction: element at positive index {i} is: {x[i]}\")\n",
    "    \n",
    "# We can also use negative index which will allow us to read the list from the backward.\n",
    "\n",
    "print(\"********************************************************\")\n",
    "print(\"********************************************************\")\n",
    "print(\"********************************************************\")\n",
    "\n",
    "for i in range(len(x)):\n",
    "    print(f\"In backward direction: element at neagtive index {-i} is: {x[-i]}\")"
   ]
  },
  {
   "cell_type": "code",
   "execution_count": 206,
   "id": "c4b2d161",
   "metadata": {},
   "outputs": [
    {
     "name": "stdout",
     "output_type": "stream",
     "text": [
      "L[0] is abc and type is: <class 'str'>\n",
      "L[1] is 1 and type is: <class 'int'>\n",
      "L[2] is 2 and type is: <class 'int'>\n",
      "L[3] is 3 and type is: <class 'int'>\n",
      "L[4] is [4, 'b'] and type is: <class 'list'>\n"
     ]
    }
   ],
   "source": [
    "# Print a List with indices\n",
    "L = ['abc', 1,2,3, [4, 'b']]\n",
    "for ind, value in enumerate(L):\n",
    "    print(f\"L[{ind}] is {value} and type is: {type(value)}\")\n"
   ]
  },
  {
   "cell_type": "markdown",
   "id": "770b50d0",
   "metadata": {},
   "source": [
    "###### Pointer aliasing\n",
    "The one important feature of the list is that name of the list is pointer and two pointer can point to same object, e.g.,\n",
    "\n"
   ]
  },
  {
   "cell_type": "code",
   "execution_count": 207,
   "id": "c642ca21",
   "metadata": {},
   "outputs": [
    {
     "name": "stdout",
     "output_type": "stream",
     "text": [
      "Original y is [1, 2, 3]\n",
      "Modified y is [1, 2, 3, 6]\n",
      "x is [1, 2, 3, 6]\n"
     ]
    }
   ],
   "source": [
    "# Initialization of list\n",
    "x = [1,2,3]\n",
    "# shallow copy\n",
    "y = x\n",
    "print(f\"Original y is {y}\")\n",
    "\n",
    "### Modify Y\n",
    "y.append(6)\n",
    "\n",
    "print(f\"Modified y is {y}\")\n",
    "\n",
    "# Now check the values in x\n",
    "print(f\"x is {x}\")\n",
    "\n",
    "## Although, we modified y but x is also modied because two pointers y and x is pointing to same data structures.\n",
    "\n"
   ]
  },
  {
   "cell_type": "code",
   "execution_count": 208,
   "id": "34383d7c",
   "metadata": {},
   "outputs": [
    {
     "name": "stdout",
     "output_type": "stream",
     "text": [
      "Original y is [1, 2, 3].\n",
      "Modified y is [1, 2, 3, 5].\n",
      "x is [1, 2, 3].\n",
      "===============================\n",
      "===============================\n",
      "Avoding Pointer aliasing using copy command.\n",
      "Original x is [1, 2, 3, 'abc', [4, 5]]\n",
      "Modified x is [1, 2, 3, 'abc', [4, 5], 10]\n",
      "y using the copy command is [1, 2, 3, 'abc', [4, 5]]\n"
     ]
    }
   ],
   "source": [
    "## To avoid this, we have to explicitly use copy operation or deepcopy\n",
    "x=[1,2,3]\n",
    "\n",
    "# list command will allocate and intialize a new array and will avoide the pointer aliasing.\n",
    "y = list(x)\n",
    "\n",
    "print(f\"Original y is {y}.\")\n",
    "\n",
    "y.append(5)\n",
    "\n",
    "print(f\"Modified y is {y}.\")\n",
    "\n",
    "print(f\"x is {x}.\")\n",
    "\n",
    "print(\"===============================\")\n",
    "print(\"===============================\")\n",
    "## We can also use copy module which works for any object\n",
    "\n",
    "import copy\n",
    "\n",
    "print(\"Avoding Pointer aliasing using copy command.\")\n",
    "x = [1,2,3, 'abc', [4,5]]\n",
    "print(f\"Original x is {x}\")\n",
    "\n",
    "### Allocate y as different pointer\n",
    "y = copy.copy(x)\n",
    "\n",
    "#### Modify x\n",
    "x.append(10)\n",
    "print(f\"Modified x is {x}\")\n",
    "print(f\"y using the copy command is {y}\")\n",
    "\n",
    "\n"
   ]
  },
  {
   "cell_type": "markdown",
   "id": "af897271",
   "metadata": {},
   "source": [
    "###### Tuple data structure"
   ]
  },
  {
   "cell_type": "code",
   "execution_count": 209,
   "id": "f571ae41",
   "metadata": {},
   "outputs": [
    {
     "name": "stdout",
     "output_type": "stream",
     "text": [
      "Type of x is: <class 'tuple'>\n",
      "x[0] is 1 and type is <class 'int'>\n",
      "x[1] is 2 and type is <class 'int'>\n",
      "x[2] is 8 and type is <class 'str'>\n",
      "x[3] is abd and type is <class 'str'>\n"
     ]
    }
   ],
   "source": [
    "# Tuple is Unmutble data structures and can be represnted as parenthese ()\n",
    "x = (1,2)\n",
    "print(f\"Type of x is: {type(x)}\")\n",
    "\n",
    "x = (1,2,\"8\",\"abd\")\n",
    "\n",
    "# The indices of tupe start with 0 and can hold different type of objects.\n",
    "\n",
    "for ind, val in enumerate(x):\n",
    "    print(f\"x[{ind}] is {val} and type is {type(val)}\")\n",
    "    "
   ]
  },
  {
   "cell_type": "markdown",
   "id": "abc041db",
   "metadata": {},
   "source": [
    "###### Dictionaries"
   ]
  },
  {
   "cell_type": "code",
   "execution_count": 210,
   "id": "6103ad54",
   "metadata": {},
   "outputs": [
    {
     "data": {
      "text/plain": [
       "'Brown University'"
      ]
     },
     "execution_count": 210,
     "metadata": {},
     "output_type": "execute_result"
    }
   ],
   "source": [
    "# Define a dictionary\n",
    "d = {\"user\": 1234, \"Raj\": \"Brown University\"}\n",
    "d[\"user\"]\n",
    "d[\"Raj\"]"
   ]
  },
  {
   "cell_type": "code",
   "execution_count": 211,
   "id": "af0d39be",
   "metadata": {},
   "outputs": [
    {
     "name": "stdout",
     "output_type": "stream",
     "text": [
      "Key: 0 and value:user\n",
      "Key: 1 and value:Raj\n"
     ]
    }
   ],
   "source": [
    "# Printing dictionary with Key-value pair\n",
    "\n",
    "for key, value in enumerate(d):\n",
    "    print(f\"Key: {key} and value:{value}\")"
   ]
  },
  {
   "cell_type": "code",
   "execution_count": 212,
   "id": "7eb8f303",
   "metadata": {},
   "outputs": [],
   "source": [
    "# Deleting a key-value pair from dictionary\n",
    "del d[\"user\"]"
   ]
  },
  {
   "cell_type": "markdown",
   "id": "7b72a49c",
   "metadata": {},
   "source": [
    "###### Conditional statements"
   ]
  },
  {
   "cell_type": "code",
   "execution_count": 213,
   "id": "be4a2e6d",
   "metadata": {},
   "outputs": [
    {
     "name": "stdout",
     "output_type": "stream",
     "text": [
      "X equals 2\n",
      "Print from out of if loop\n"
     ]
    }
   ],
   "source": [
    "## if statement\n",
    "\n",
    "x = 2\n",
    "if x==3:\n",
    "    print(f\"X equals 3\")\n",
    "elif x == 2:\n",
    "    print(\"X equals 2\")\n",
    "else:\n",
    "    print(\"X equals something\")\n",
    "print(\"Print from out of if loop\")"
   ]
  },
  {
   "cell_type": "code",
   "execution_count": 214,
   "id": "186c0ffd",
   "metadata": {},
   "outputs": [
    {
     "name": "stdout",
     "output_type": "stream",
     "text": [
      "11 is still in the loop.\n",
      "12 is still in the loop.\n",
      "13 is still in the loop.\n",
      "14 is still in the loop.\n",
      "15 is still in the loop.\n",
      "16 is still in the loop.\n",
      "17 is still in the loop.\n",
      "18 is still in the loop.\n",
      "19 is still in the loop.\n",
      "20 is still in the loop.\n",
      "21 is still in the loop.\n",
      "22 is still in the loop.\n",
      "23 is still in the loop.\n",
      "24 is still in the loop.\n",
      "25 is still in the loop.\n",
      "printing from outside of while scope!\n"
     ]
    }
   ],
   "source": [
    "# While Loop\n",
    "\n",
    "#While Loop\n",
    "y = 10\n",
    "\n",
    "while y < 25:\n",
    "    y = y + 1\n",
    "    print(f\"{y} is still in the loop.\" )\n",
    "\n",
    "print(\"printing from outside of while scope!\")"
   ]
  },
  {
   "cell_type": "code",
   "execution_count": 215,
   "id": "d2bc73a4",
   "metadata": {},
   "outputs": [
    {
     "name": "stdout",
     "output_type": "stream",
     "text": [
      "x is: 5\n",
      "x is: 5\n",
      "x is: 5\n",
      "x is: 5\n",
      "x is: 5\n",
      "x from while loop is: 5\n",
      "The value of i at the end of the loop:1\n",
      "x from while loop is: 5\n",
      "The value of i at the end of the loop:2\n",
      "x from while loop is: 5\n",
      "The value of i at the end of the loop:3\n",
      "x from while loop is: 5\n",
      "The value of i at the end of the loop:4\n",
      "x from while loop is: 5\n",
      "The value of i at the end of the loop:5\n"
     ]
    }
   ],
   "source": [
    "## For and While Loop\n",
    "\n",
    "x = 5\n",
    "for i in range(5):\n",
    "    print(f\"x is: {x}\")\n",
    "\n",
    "i = 0\n",
    "while i < 5:\n",
    "    print(f\"x from while loop is: {x}\")\n",
    "    i = i+1\n",
    "    print(f\"The value of i at the end of the loop:{i}\")\n",
    "    "
   ]
  },
  {
   "cell_type": "code",
   "execution_count": 216,
   "id": "9a182e89",
   "metadata": {},
   "outputs": [
    {
     "name": "stdout",
     "output_type": "stream",
     "text": [
      "n = 3 is prime number\n",
      "n = 2 * 2\n",
      "n = 5 is prime number\n",
      "n = 5 is prime number\n",
      "n = 5 is prime number\n",
      "n = 2 * 3\n",
      "n = 7 is prime number\n",
      "n = 7 is prime number\n",
      "n = 7 is prime number\n",
      "n = 7 is prime number\n",
      "n = 7 is prime number\n",
      "n = 2 * 4\n",
      "n = 9 is prime number\n",
      "n = 3 * 3\n"
     ]
    }
   ],
   "source": [
    "# Break Statement 1\n",
    "\n",
    "for n in range(2, 10):\n",
    "    for x in range(2, n):\n",
    "        if n % x == 0:\n",
    "            print(f\"n = {x} * {n // x}\")\n",
    "            break\n",
    "        else:\n",
    "            print(f\"n = {n} is prime number\")\n",
    "            "
   ]
  },
  {
   "cell_type": "code",
   "execution_count": 217,
   "id": "a7985a44",
   "metadata": {},
   "outputs": [
    {
     "name": "stdout",
     "output_type": "stream",
     "text": [
      "Found an even number 2\n",
      "Found an odd number= 3\n",
      "Found an even number 4\n",
      "Found an odd number= 5\n",
      "Found an even number 6\n",
      "Found an odd number= 7\n",
      "Found an even number 8\n",
      "Found an odd number= 9\n"
     ]
    }
   ],
   "source": [
    "# Continue Statement 1\n",
    "\n",
    "for num in range(2, 10):\n",
    "    if num % 2 == 0:\n",
    "        print(f\"Found an even number {num}\")\n",
    "        continue\n",
    "    print(f\"Found an odd number= {num}\")"
   ]
  },
  {
   "cell_type": "code",
   "execution_count": 218,
   "id": "dc41278b",
   "metadata": {},
   "outputs": [
    {
     "name": "stdout",
     "output_type": "stream",
     "text": [
      "Current Letter : P\n",
      "Current Letter : y\n",
      "Current Letter : t\n",
      "Current variable value : 10\n",
      "Current variable value : 9\n",
      "Current variable value : 8\n",
      "Current variable value : 7\n",
      "Current variable value : 6\n",
      "Good bye!\n"
     ]
    }
   ],
   "source": [
    "## Break Statement Ex 2\n",
    "\n",
    "for letter in 'Python':     \n",
    "   if letter == 'h':\n",
    "      break\n",
    "   print('Current Letter :', letter)\n",
    "  \n",
    "var = 10                    \n",
    "while var > 0:              \n",
    "   print('Current variable value :', var)\n",
    "   var = var -1\n",
    "   if var == 5:\n",
    "      break\n",
    "\n",
    "print(\"Good bye!\")"
   ]
  },
  {
   "cell_type": "code",
   "execution_count": 219,
   "id": "d9a9e81d",
   "metadata": {},
   "outputs": [
    {
     "name": "stdout",
     "output_type": "stream",
     "text": [
      "Current Letter : P\n",
      "Current Letter : y\n",
      "Current Letter : t\n",
      "Current Letter : h\n",
      "Current Letter : n\n",
      "Current variable value : 9\n",
      "Current variable value : 8\n",
      "Current variable value : 7\n",
      "Current variable value : 6\n",
      "Current variable value : 4\n",
      "Current variable value : 3\n",
      "Current variable value : 2\n",
      "Current variable value : 1\n",
      "Current variable value : 0\n",
      "Good bye!\n"
     ]
    }
   ],
   "source": [
    "# Continue Statement 2\n",
    "for letter in 'Python':     \n",
    "   if letter == 'o':\n",
    "      continue\n",
    "   print('Current Letter :', letter)\n",
    "\n",
    "var = 10                   \n",
    "while var > 0:              \n",
    "   var = var -1\n",
    "   if var == 5:\n",
    "      continue\n",
    "   print('Current variable value :', var)\n",
    "print(\"Good bye!\")"
   ]
  },
  {
   "cell_type": "code",
   "execution_count": 220,
   "id": "1df582da",
   "metadata": {},
   "outputs": [
    {
     "data": {
      "text/plain": [
       "8"
      ]
     },
     "execution_count": 220,
     "metadata": {},
     "output_type": "execute_result"
    }
   ],
   "source": [
    "### Functions\n",
    "def myfun(x, y):\n",
    "    return x*y\n",
    "\n",
    "y = myfun(2,4)\n",
    "y\n",
    "\n"
   ]
  },
  {
   "cell_type": "code",
   "execution_count": 221,
   "id": "617ba439",
   "metadata": {},
   "outputs": [
    {
     "name": "stdout",
     "output_type": "stream",
     "text": [
      "y(45): 180\n",
      " z(2,2): 4\n"
     ]
    }
   ],
   "source": [
    "y = lambda z: z * 4 \n",
    "\n",
    "print(f\"y(45): {y(45)}\")\n",
    "\n",
    "z = lambda x,y: x**y\n",
    "print(f\" z(2,2): {z(2,2)}\")\n",
    "\n",
    "#h = lambda x: if x > 0:\n"
   ]
  },
  {
   "cell_type": "code",
   "execution_count": 222,
   "id": "f6b7d6c2",
   "metadata": {},
   "outputs": [
    {
     "data": {
      "text/plain": [
       "[0, 1, 2, 3, 4, 5, 6, 7, 8, 9]"
      ]
     },
     "execution_count": 222,
     "metadata": {},
     "output_type": "execute_result"
    }
   ],
   "source": [
    "L = list(range(10))\n",
    "L"
   ]
  },
  {
   "cell_type": "code",
   "execution_count": 223,
   "id": "c7c02857",
   "metadata": {},
   "outputs": [
    {
     "data": {
      "text/plain": [
       "int"
      ]
     },
     "execution_count": 223,
     "metadata": {},
     "output_type": "execute_result"
    }
   ],
   "source": [
    "type(L[0])"
   ]
  },
  {
   "cell_type": "code",
   "execution_count": 224,
   "id": "9ba9a5d5",
   "metadata": {},
   "outputs": [
    {
     "data": {
      "text/plain": [
       "['0', '1', '2', '3', '4', '5', '6', '7', '8', '9']"
      ]
     },
     "execution_count": 224,
     "metadata": {},
     "output_type": "execute_result"
    }
   ],
   "source": [
    "L2 = [str(c) for c in L]\n",
    "L2"
   ]
  },
  {
   "cell_type": "code",
   "execution_count": 225,
   "id": "b87a2e12",
   "metadata": {},
   "outputs": [
    {
     "data": {
      "text/plain": [
       "str"
      ]
     },
     "execution_count": 225,
     "metadata": {},
     "output_type": "execute_result"
    }
   ],
   "source": [
    "type(L2[0])"
   ]
  },
  {
   "cell_type": "code",
   "execution_count": 226,
   "id": "1f378f96",
   "metadata": {},
   "outputs": [
    {
     "data": {
      "text/plain": [
       "[bool, str, float, int]"
      ]
     },
     "execution_count": 226,
     "metadata": {},
     "output_type": "execute_result"
    }
   ],
   "source": [
    "L3 = [True, \"2\", 3.0, 4]\n",
    "[type(item) for item in L3]"
   ]
  },
  {
   "cell_type": "markdown",
   "id": "6e10b1f3",
   "metadata": {},
   "source": [
    "But this flexibility comes at a cost: to allow these flexible types, each item in the list must contain its own type info, reference count, and other information–that is, each item is a complete Python object. In the special case that all variables are of the same type, much of this information is redundant: it can be much more efficient to store data in a fixed-type array."
   ]
  },
  {
   "cell_type": "markdown",
   "id": "1655125a",
   "metadata": {},
   "source": [
    "# Basics of NumPy Arrays"
   ]
  },
  {
   "cell_type": "markdown",
   "id": "cea2d4c1",
   "metadata": {},
   "source": [
    "Data manipulation in Python is nearly synonymous with NumPy array manipulation: even newer tools like Pandas are built around the NumPy array. This section will present several examples of using NumPy array manipulation to access data and subarrays, and to split, reshape, and join the arrays. While the types of operations shown here may seem a bit dry and pedantic, they comprise the building blocks of many other examples used throughout the book. Get to know them well!"
   ]
  },
  {
   "cell_type": "markdown",
   "id": "21e41e43",
   "metadata": {},
   "source": [
    "At the implementation level, the array essentially contains a single pointer to one contiguous block of data. The Python list, on the other hand, contains a pointer to a block of pointers, each of which in turn points to a full Python object like the Python integer we saw earlier. Again, the advantage of the list is flexibility: because each list element is a full structure containing both data and type information, the list can be filled with data of any desired type. Fixed-type NumPy-style arrays lack this flexibility, but are much more efficient for storing and manipulating data."
   ]
  },
  {
   "cell_type": "markdown",
   "id": "29ab201a",
   "metadata": {},
   "source": [
    "## Fixed-Type Arrays in Python\n"
   ]
  },
  {
   "cell_type": "code",
   "execution_count": 227,
   "id": "0729c7db",
   "metadata": {},
   "outputs": [],
   "source": [
    "# We'll start with the standard NumPy import, under the alias np:\n",
    "import numpy as np"
   ]
  },
  {
   "cell_type": "code",
   "execution_count": 228,
   "id": "556e2098",
   "metadata": {},
   "outputs": [
    {
     "data": {
      "text/plain": [
       "array([1, 4, 2, 5, 3])"
      ]
     },
     "execution_count": 228,
     "metadata": {},
     "output_type": "execute_result"
    }
   ],
   "source": [
    "# integer array:\n",
    "np.array([1, 4, 2, 5, 3])"
   ]
  },
  {
   "cell_type": "markdown",
   "id": "433e7024",
   "metadata": {},
   "source": [
    "\n",
    "Remember that unlike Python lists, NumPy is constrained to arrays that all contain the same type. If types do not match, NumPy will upcast if possible (here, integers are up-cast to floating point):"
   ]
  },
  {
   "cell_type": "code",
   "execution_count": 229,
   "id": "1a508031",
   "metadata": {
    "scrolled": true
   },
   "outputs": [
    {
     "data": {
      "text/plain": [
       "array([3.14, 4.  , 2.  , 3.  ])"
      ]
     },
     "execution_count": 229,
     "metadata": {},
     "output_type": "execute_result"
    }
   ],
   "source": [
    "np.array([3.14, 4, 2, 3])\n"
   ]
  },
  {
   "cell_type": "markdown",
   "id": "7b509e4d",
   "metadata": {},
   "source": [
    "If we want to explicitly set the data type of the resulting array, we can use the dtype keyword:"
   ]
  },
  {
   "cell_type": "code",
   "execution_count": 230,
   "id": "703a38cd",
   "metadata": {},
   "outputs": [
    {
     "data": {
      "text/plain": [
       "array([1., 2., 3., 4.], dtype=float32)"
      ]
     },
     "execution_count": 230,
     "metadata": {},
     "output_type": "execute_result"
    }
   ],
   "source": [
    "np.array([1, 2, 3, 4], dtype='float32')"
   ]
  },
  {
   "cell_type": "markdown",
   "id": "3726a85b",
   "metadata": {},
   "source": [
    "Finally, unlike Python lists, NumPy arrays can explicitly be multi-dimensional; here's one way of initializing a multidimensional array using a list of lists:"
   ]
  },
  {
   "cell_type": "code",
   "execution_count": 231,
   "id": "9f3f57ce",
   "metadata": {},
   "outputs": [
    {
     "data": {
      "text/plain": [
       "array([[2, 3, 4],\n",
       "       [4, 5, 6],\n",
       "       [6, 7, 8]])"
      ]
     },
     "execution_count": 231,
     "metadata": {},
     "output_type": "execute_result"
    }
   ],
   "source": [
    "# nested lists result in multi-dimensional arrays\n",
    "np.array([range(i, i + 3) for i in [2, 4, 6]])"
   ]
  },
  {
   "cell_type": "markdown",
   "id": "4561a66e",
   "metadata": {},
   "source": [
    "The inner lists are treated as rows of the resulting two-dimensional array."
   ]
  },
  {
   "cell_type": "markdown",
   "id": "d8f8feb1",
   "metadata": {},
   "source": [
    "## Creating Arrays from Scratch\n"
   ]
  },
  {
   "cell_type": "markdown",
   "id": "89ae0e85",
   "metadata": {},
   "source": [
    "Especially for larger arrays, it is more efficient to create arrays from scratch using routines built into NumPy. Here are several examples:"
   ]
  },
  {
   "cell_type": "code",
   "execution_count": 232,
   "id": "9d5ed90e",
   "metadata": {},
   "outputs": [
    {
     "data": {
      "text/plain": [
       "array([0, 0, 0, 0, 0, 0, 0, 0, 0, 0])"
      ]
     },
     "execution_count": 232,
     "metadata": {},
     "output_type": "execute_result"
    }
   ],
   "source": [
    "# Create a length-10 integer array filled with zeros\n",
    "np.zeros(10, dtype=int)"
   ]
  },
  {
   "cell_type": "code",
   "execution_count": 233,
   "id": "6d84b312",
   "metadata": {},
   "outputs": [
    {
     "data": {
      "text/plain": [
       "array([0, 0, 0, 0, 0, 0, 0, 0, 0, 0])"
      ]
     },
     "execution_count": 233,
     "metadata": {},
     "output_type": "execute_result"
    }
   ],
   "source": [
    "# Create a length-10 integer array filled with zeros\n",
    "np.zeros(10, dtype=int)"
   ]
  },
  {
   "cell_type": "code",
   "execution_count": 234,
   "id": "29a71aaa",
   "metadata": {},
   "outputs": [
    {
     "data": {
      "text/plain": [
       "array([[1., 1., 1., 1., 1.],\n",
       "       [1., 1., 1., 1., 1.],\n",
       "       [1., 1., 1., 1., 1.]])"
      ]
     },
     "execution_count": 234,
     "metadata": {},
     "output_type": "execute_result"
    }
   ],
   "source": [
    "# Create a 3x5 floating-point array filled with ones\n",
    "np.ones((3, 5), dtype=float)"
   ]
  },
  {
   "cell_type": "code",
   "execution_count": 235,
   "id": "b1cbe09f",
   "metadata": {},
   "outputs": [
    {
     "data": {
      "text/plain": [
       "array([[3.14, 3.14, 3.14, 3.14, 3.14],\n",
       "       [3.14, 3.14, 3.14, 3.14, 3.14],\n",
       "       [3.14, 3.14, 3.14, 3.14, 3.14]])"
      ]
     },
     "execution_count": 235,
     "metadata": {},
     "output_type": "execute_result"
    }
   ],
   "source": [
    "# Create a 3x5 array filled with 3.14\n",
    "np.full((3, 5), 3.14)"
   ]
  },
  {
   "cell_type": "code",
   "execution_count": 236,
   "id": "d19937ea",
   "metadata": {},
   "outputs": [
    {
     "data": {
      "text/plain": [
       "array([ 0,  2,  4,  6,  8, 10, 12, 14, 16, 18])"
      ]
     },
     "execution_count": 236,
     "metadata": {},
     "output_type": "execute_result"
    }
   ],
   "source": [
    "# Create an array filled with a linear sequence\n",
    "# Starting at 0, ending at 20, stepping by 2\n",
    "# (this is similar to the built-in range() function)\n",
    "np.arange(0, 20, 2)"
   ]
  },
  {
   "cell_type": "code",
   "execution_count": 237,
   "id": "f4da8324",
   "metadata": {},
   "outputs": [
    {
     "data": {
      "text/plain": [
       "array([0.  , 0.25, 0.5 , 0.75, 1.  ])"
      ]
     },
     "execution_count": 237,
     "metadata": {},
     "output_type": "execute_result"
    }
   ],
   "source": [
    "# Create an array of five values evenly spaced between 0 and 1\n",
    "np.linspace(0, 1, 5)"
   ]
  },
  {
   "cell_type": "code",
   "execution_count": 238,
   "id": "eb268484",
   "metadata": {},
   "outputs": [
    {
     "data": {
      "text/plain": [
       "array([[0.97023668, 0.68054469, 0.08529557],\n",
       "       [0.05641833, 0.4878377 , 0.88100456],\n",
       "       [0.97640439, 0.61765792, 0.54249878]])"
      ]
     },
     "execution_count": 238,
     "metadata": {},
     "output_type": "execute_result"
    }
   ],
   "source": [
    "# Create a 3x3 array of uniformly distributed\n",
    "# random values between 0 and 1\n",
    "np.random.random((3, 3))"
   ]
  },
  {
   "cell_type": "code",
   "execution_count": 239,
   "id": "f94517c8",
   "metadata": {},
   "outputs": [
    {
     "data": {
      "text/plain": [
       "array([[ 0.43887142,  0.6382597 ,  2.01584138],\n",
       "       [-0.24365275,  1.53383566,  0.76475023],\n",
       "       [-2.45667902, -1.70364871,  0.42015307]])"
      ]
     },
     "execution_count": 239,
     "metadata": {},
     "output_type": "execute_result"
    }
   ],
   "source": [
    "# Create a 3x3 array of normally distributed random values\n",
    "# with mean 0 and standard deviation 1\n",
    "np.random.normal(0, 1, (3, 3))"
   ]
  },
  {
   "cell_type": "code",
   "execution_count": 240,
   "id": "c4e8bd8d",
   "metadata": {},
   "outputs": [
    {
     "data": {
      "text/plain": [
       "array([[3, 8, 8],\n",
       "       [7, 0, 3],\n",
       "       [8, 7, 7]])"
      ]
     },
     "execution_count": 240,
     "metadata": {},
     "output_type": "execute_result"
    }
   ],
   "source": [
    "# Create a 3x3 array of random integers in the interval [0, 10)\n",
    "np.random.randint(0, 10, (3, 3))"
   ]
  },
  {
   "cell_type": "code",
   "execution_count": 241,
   "id": "953fe6de",
   "metadata": {},
   "outputs": [
    {
     "data": {
      "text/plain": [
       "array([[1., 0., 0.],\n",
       "       [0., 1., 0.],\n",
       "       [0., 0., 1.]])"
      ]
     },
     "execution_count": 241,
     "metadata": {},
     "output_type": "execute_result"
    }
   ],
   "source": [
    "# Create a 3x3 identity matrix\n",
    "np.eye(3)"
   ]
  },
  {
   "cell_type": "code",
   "execution_count": 242,
   "id": "7e59f062",
   "metadata": {},
   "outputs": [
    {
     "data": {
      "text/plain": [
       "array([1., 1., 1.])"
      ]
     },
     "execution_count": 242,
     "metadata": {},
     "output_type": "execute_result"
    }
   ],
   "source": [
    "# Create an uninitialized array of three integers\n",
    "# The values will be whatever happens to already exist at that memory location\n",
    "np.empty(3)"
   ]
  },
  {
   "cell_type": "markdown",
   "id": "1aa1c142",
   "metadata": {},
   "source": [
    "# NumPy Array Attributes"
   ]
  },
  {
   "cell_type": "markdown",
   "id": "a2e9cc28",
   "metadata": {},
   "source": [
    "We will first start with the basics. Let's defined three random arrays, one-dimensional, a two dimensional and a three-dimensional array. We will use the inbuilt function in Numpy for random number generator. We will use seed with a set value in order to ensure that the same random arrays are generated each time the code is run:"
   ]
  },
  {
   "cell_type": "code",
   "execution_count": 243,
   "id": "3f984240",
   "metadata": {},
   "outputs": [
    {
     "name": "stdout",
     "output_type": "stream",
     "text": [
      "[[[8 1 5 9 8]\n",
      "  [9 4 3 0 3]\n",
      "  [5 0 2 3 8]\n",
      "  [1 3 3 3 7]]\n",
      "\n",
      " [[0 1 9 9 0]\n",
      "  [4 7 3 2 7]\n",
      "  [2 0 0 4 5]\n",
      "  [5 6 8 4 1]]\n",
      "\n",
      " [[4 9 8 1 1]\n",
      "  [7 9 9 3 6]\n",
      "  [7 2 0 3 5]\n",
      "  [9 4 4 6 4]]]\n"
     ]
    }
   ],
   "source": [
    "import numpy as np\n",
    "np.random.seed(0)  # seed for reproducibility\n",
    "x1 = np.random.randint(10, size=6)  # One-dimensional array\n",
    "x2 = np.random.randint(10, size=(3, 4))  # Two-dimensional array\n",
    "x3 = np.random.randint(10, size=(3, 4, 5))  # Three-dimensional array\n",
    "print(f\"{x3}\")"
   ]
  },
  {
   "cell_type": "code",
   "execution_count": 244,
   "id": "4bb2f465",
   "metadata": {},
   "outputs": [
    {
     "name": "stdout",
     "output_type": "stream",
     "text": [
      "x3 ndim:  3\n",
      "x3 shape: (3, 4, 5)\n",
      "x3 size:  60\n"
     ]
    }
   ],
   "source": [
    "# Each array has attributes ndim (the number of dimensions), shape (the size of each dimension), \n",
    "#and size (the total size of the array):\n",
    "print(\"x3 ndim: \", x3.ndim)\n",
    "print(\"x3 shape:\", x3.shape)\n",
    "print(\"x3 size: \", x3.size)"
   ]
  },
  {
   "cell_type": "code",
   "execution_count": 245,
   "id": "33f24db9",
   "metadata": {},
   "outputs": [
    {
     "name": "stdout",
     "output_type": "stream",
     "text": [
      "dtype: int32\n"
     ]
    }
   ],
   "source": [
    "print(\"dtype:\",x3.dtype)"
   ]
  },
  {
   "cell_type": "markdown",
   "id": "d660e171",
   "metadata": {},
   "source": [
    "Other attributes include itemsize, which lists the size (in bytes) of each array element, and nbytes, which lists the total size (in bytes) of the array:"
   ]
  },
  {
   "cell_type": "code",
   "execution_count": 246,
   "id": "c789ce0e",
   "metadata": {},
   "outputs": [
    {
     "name": "stdout",
     "output_type": "stream",
     "text": [
      "itemsize 4 bytes\n",
      "itemsize 240 bytes\n"
     ]
    }
   ],
   "source": [
    "print(\"itemsize\",x3.itemsize,\"bytes\")\n",
    "print(\"itemsize\",x3.nbytes,\"bytes\")"
   ]
  },
  {
   "cell_type": "markdown",
   "id": "046b4d8a",
   "metadata": {},
   "source": [
    "In general, we expect that nbytes is equal to itemsize times size."
   ]
  },
  {
   "cell_type": "markdown",
   "id": "52086df7",
   "metadata": {},
   "source": [
    "## Indexing: Accessing elements within an Array"
   ]
  },
  {
   "cell_type": "code",
   "execution_count": 247,
   "id": "14b04e0d",
   "metadata": {},
   "outputs": [
    {
     "name": "stdout",
     "output_type": "stream",
     "text": [
      "[ 5  2  6  2 10  4]\n"
     ]
    }
   ],
   "source": [
    "x1=np.array([5,2,6,2,10,4])\n",
    "print(x1)"
   ]
  },
  {
   "cell_type": "code",
   "execution_count": 248,
   "id": "713c7328",
   "metadata": {},
   "outputs": [
    {
     "data": {
      "text/plain": [
       "5"
      ]
     },
     "execution_count": 248,
     "metadata": {},
     "output_type": "execute_result"
    }
   ],
   "source": [
    "x1[0]"
   ]
  },
  {
   "cell_type": "code",
   "execution_count": 249,
   "id": "98c08ad5",
   "metadata": {},
   "outputs": [
    {
     "data": {
      "text/plain": [
       "10"
      ]
     },
     "execution_count": 249,
     "metadata": {},
     "output_type": "execute_result"
    }
   ],
   "source": [
    "x1[-2]"
   ]
  },
  {
   "cell_type": "code",
   "execution_count": 250,
   "id": "b2e39312",
   "metadata": {},
   "outputs": [
    {
     "data": {
      "text/plain": [
       "4"
      ]
     },
     "execution_count": 250,
     "metadata": {},
     "output_type": "execute_result"
    }
   ],
   "source": [
    "x1[-1]"
   ]
  },
  {
   "cell_type": "code",
   "execution_count": 251,
   "id": "32d77628",
   "metadata": {},
   "outputs": [],
   "source": [
    "x2=np.array([[2,3,5],[3,1,2],[4,5,2]])"
   ]
  },
  {
   "cell_type": "code",
   "execution_count": 252,
   "id": "9bed73f8",
   "metadata": {},
   "outputs": [
    {
     "data": {
      "text/plain": [
       "array([[2, 3, 5],\n",
       "       [3, 1, 2],\n",
       "       [4, 5, 2]])"
      ]
     },
     "execution_count": 252,
     "metadata": {},
     "output_type": "execute_result"
    }
   ],
   "source": [
    "x2"
   ]
  },
  {
   "cell_type": "code",
   "execution_count": 253,
   "id": "c532fca6",
   "metadata": {},
   "outputs": [
    {
     "data": {
      "text/plain": [
       "2"
      ]
     },
     "execution_count": 253,
     "metadata": {},
     "output_type": "execute_result"
    }
   ],
   "source": [
    "x2[0, 0]"
   ]
  },
  {
   "cell_type": "code",
   "execution_count": 254,
   "id": "b8c73a52",
   "metadata": {},
   "outputs": [
    {
     "data": {
      "text/plain": [
       "5"
      ]
     },
     "execution_count": 254,
     "metadata": {},
     "output_type": "execute_result"
    }
   ],
   "source": [
    "x2[0,2]"
   ]
  },
  {
   "cell_type": "code",
   "execution_count": 255,
   "id": "a19c0d91",
   "metadata": {},
   "outputs": [
    {
     "data": {
      "text/plain": [
       "4"
      ]
     },
     "execution_count": 255,
     "metadata": {},
     "output_type": "execute_result"
    }
   ],
   "source": [
    "x2[2,0]"
   ]
  },
  {
   "cell_type": "code",
   "execution_count": 256,
   "id": "bdb7c06c",
   "metadata": {},
   "outputs": [],
   "source": [
    "x2[0, 0] = 12"
   ]
  },
  {
   "cell_type": "code",
   "execution_count": 257,
   "id": "45ffad5b",
   "metadata": {},
   "outputs": [
    {
     "data": {
      "text/plain": [
       "array([[12,  3,  5],\n",
       "       [ 3,  1,  2],\n",
       "       [ 4,  5,  2]])"
      ]
     },
     "execution_count": 257,
     "metadata": {},
     "output_type": "execute_result"
    }
   ],
   "source": [
    "x2"
   ]
  },
  {
   "cell_type": "markdown",
   "id": "0856c77b",
   "metadata": {},
   "source": [
    "Keep in mind that, unlike Python lists, NumPy arrays have a fixed type. This means, for example, that if you attempt to insert a floating-point value to an integer array, the value will be silently truncated. So be careful with this!!"
   ]
  },
  {
   "cell_type": "code",
   "execution_count": 258,
   "id": "4e23f56d",
   "metadata": {},
   "outputs": [
    {
     "data": {
      "text/plain": [
       "array([ 3,  2,  6,  2, 10,  4])"
      ]
     },
     "execution_count": 258,
     "metadata": {},
     "output_type": "execute_result"
    }
   ],
   "source": [
    "x1[0] = 3.14159  # this will be truncated!\n",
    "x1"
   ]
  },
  {
   "cell_type": "markdown",
   "id": "cda2e5c4",
   "metadata": {},
   "source": [
    "## Array Slicing"
   ]
  },
  {
   "cell_type": "markdown",
   "id": "b1b2147b",
   "metadata": {},
   "source": [
    "Just as we can use square brackets to access individual array elements, we can also use them to access subarrays with the slice notation, marked by the colon (:) character. The NumPy slicing syntax follows that of the standard Python list; to access a slice of an array x, use this:\n",
    "\n",
    "    x[start:stop:step]\n",
    "\n",
    "If any of these are unspecified, they default to the values start=0, stop=size of dimension, step=1. We'll take a look at accessing sub-arrays in one dimension and in multiple dimensions."
   ]
  },
  {
   "cell_type": "code",
   "execution_count": 259,
   "id": "d7c5c97e",
   "metadata": {},
   "outputs": [
    {
     "data": {
      "text/plain": [
       "array([0, 1, 2, 3, 4, 5, 6, 7, 8, 9])"
      ]
     },
     "execution_count": 259,
     "metadata": {},
     "output_type": "execute_result"
    }
   ],
   "source": [
    "x = np.arange(10)\n",
    "x"
   ]
  },
  {
   "cell_type": "code",
   "execution_count": 260,
   "id": "7639d9d6",
   "metadata": {},
   "outputs": [
    {
     "data": {
      "text/plain": [
       "array([0, 1, 2, 3, 4])"
      ]
     },
     "execution_count": 260,
     "metadata": {},
     "output_type": "execute_result"
    }
   ],
   "source": [
    "x[:5]  # first five elements"
   ]
  },
  {
   "cell_type": "code",
   "execution_count": 261,
   "id": "455c14e7",
   "metadata": {},
   "outputs": [
    {
     "data": {
      "text/plain": [
       "array([5, 6, 7, 8, 9])"
      ]
     },
     "execution_count": 261,
     "metadata": {},
     "output_type": "execute_result"
    }
   ],
   "source": [
    "x[5:]  # elements after index 5"
   ]
  },
  {
   "cell_type": "code",
   "execution_count": 262,
   "id": "de7d9528",
   "metadata": {},
   "outputs": [
    {
     "data": {
      "text/plain": [
       "array([4, 5, 6])"
      ]
     },
     "execution_count": 262,
     "metadata": {},
     "output_type": "execute_result"
    }
   ],
   "source": [
    "x[4:7]  # middle sub-array"
   ]
  },
  {
   "cell_type": "code",
   "execution_count": 263,
   "id": "5c8c2020",
   "metadata": {},
   "outputs": [
    {
     "data": {
      "text/plain": [
       "array([4, 5, 6])"
      ]
     },
     "execution_count": 263,
     "metadata": {},
     "output_type": "execute_result"
    }
   ],
   "source": [
    "x[4:7]  # middle sub-array"
   ]
  },
  {
   "cell_type": "code",
   "execution_count": 264,
   "id": "b26c0fa6",
   "metadata": {},
   "outputs": [
    {
     "data": {
      "text/plain": [
       "array([0, 2, 4, 6, 8])"
      ]
     },
     "execution_count": 264,
     "metadata": {},
     "output_type": "execute_result"
    }
   ],
   "source": [
    "x[::2]  # every other element"
   ]
  },
  {
   "cell_type": "code",
   "execution_count": 265,
   "id": "3b5629f2",
   "metadata": {},
   "outputs": [
    {
     "data": {
      "text/plain": [
       "array([1, 3, 5, 7, 9])"
      ]
     },
     "execution_count": 265,
     "metadata": {},
     "output_type": "execute_result"
    }
   ],
   "source": [
    "x[1::2]  # every other element, starting at index 1"
   ]
  },
  {
   "cell_type": "code",
   "execution_count": 266,
   "id": "fd4b8f30",
   "metadata": {},
   "outputs": [
    {
     "data": {
      "text/plain": [
       "array([9, 8, 7, 6, 5, 4, 3, 2, 1, 0])"
      ]
     },
     "execution_count": 266,
     "metadata": {},
     "output_type": "execute_result"
    }
   ],
   "source": [
    "x[::-1]  # all elements, reversed"
   ]
  },
  {
   "cell_type": "code",
   "execution_count": 267,
   "id": "13338141",
   "metadata": {},
   "outputs": [
    {
     "data": {
      "text/plain": [
       "array([5, 3, 1])"
      ]
     },
     "execution_count": 267,
     "metadata": {},
     "output_type": "execute_result"
    }
   ],
   "source": [
    "x[5::-2]  # reversed every other from index 5"
   ]
  },
  {
   "cell_type": "markdown",
   "id": "d386f4a2",
   "metadata": {},
   "source": [
    "### Multi-dimensional subarrays\n"
   ]
  },
  {
   "cell_type": "code",
   "execution_count": 268,
   "id": "307c061d",
   "metadata": {},
   "outputs": [
    {
     "data": {
      "text/plain": [
       "array([[12,  3,  5],\n",
       "       [ 3,  1,  2],\n",
       "       [ 4,  5,  2]])"
      ]
     },
     "execution_count": 268,
     "metadata": {},
     "output_type": "execute_result"
    }
   ],
   "source": [
    "x2"
   ]
  },
  {
   "cell_type": "code",
   "execution_count": 269,
   "id": "d4369c55",
   "metadata": {},
   "outputs": [
    {
     "data": {
      "text/plain": [
       "array([[12,  3,  5],\n",
       "       [ 3,  1,  2]])"
      ]
     },
     "execution_count": 269,
     "metadata": {},
     "output_type": "execute_result"
    }
   ],
   "source": [
    "x2[:2, :3]  # two rows, three columns"
   ]
  },
  {
   "cell_type": "code",
   "execution_count": 270,
   "id": "4beecb5f",
   "metadata": {},
   "outputs": [
    {
     "data": {
      "text/plain": [
       "array([[12,  5],\n",
       "       [ 3,  2],\n",
       "       [ 4,  2]])"
      ]
     },
     "execution_count": 270,
     "metadata": {},
     "output_type": "execute_result"
    }
   ],
   "source": [
    "x2[:3, ::2]  # all rows, every other column"
   ]
  },
  {
   "cell_type": "code",
   "execution_count": 271,
   "id": "18afb21e",
   "metadata": {},
   "outputs": [
    {
     "data": {
      "text/plain": [
       "array([[ 2,  5,  4],\n",
       "       [ 2,  1,  3],\n",
       "       [ 5,  3, 12]])"
      ]
     },
     "execution_count": 271,
     "metadata": {},
     "output_type": "execute_result"
    }
   ],
   "source": [
    "x2[::-1, ::-1] # Subarray dimensions reversed together"
   ]
  },
  {
   "cell_type": "markdown",
   "id": "98455d69",
   "metadata": {},
   "source": [
    "Accessing rows and columns of arrays"
   ]
  },
  {
   "cell_type": "code",
   "execution_count": 272,
   "id": "7f13cd6a",
   "metadata": {},
   "outputs": [
    {
     "name": "stdout",
     "output_type": "stream",
     "text": [
      "[12  3  4]\n"
     ]
    }
   ],
   "source": [
    "print(x2[:, 0])  # first column of x2"
   ]
  },
  {
   "cell_type": "code",
   "execution_count": 273,
   "id": "2e1cc21f",
   "metadata": {},
   "outputs": [
    {
     "name": "stdout",
     "output_type": "stream",
     "text": [
      "[12  3  5]\n"
     ]
    }
   ],
   "source": [
    "print(x2[0, :])  # first row of x2"
   ]
  },
  {
   "cell_type": "code",
   "execution_count": 274,
   "id": "c7d5079b",
   "metadata": {},
   "outputs": [
    {
     "name": "stdout",
     "output_type": "stream",
     "text": [
      "[12  3  5]\n"
     ]
    }
   ],
   "source": [
    "print(x2[0])  # equivalent to x2[0, :]"
   ]
  },
  {
   "cell_type": "markdown",
   "id": "7f363a17",
   "metadata": {},
   "source": [
    "### Subarrays as no-copy views\n"
   ]
  },
  {
   "cell_type": "markdown",
   "id": "eb96840b",
   "metadata": {},
   "source": [
    "One important–and extremely useful–thing to know about array slices is that they return views rather than copies of the array data. This is one area in which NumPy array slicing differs from Python list slicing: in lists, slices will be copies. Consider our two-dimensional array from before:"
   ]
  },
  {
   "cell_type": "code",
   "execution_count": 275,
   "id": "aa520aa1",
   "metadata": {},
   "outputs": [
    {
     "name": "stdout",
     "output_type": "stream",
     "text": [
      "[[12  3  5]\n",
      " [ 3  1  2]\n",
      " [ 4  5  2]]\n"
     ]
    }
   ],
   "source": [
    "print(x2)"
   ]
  },
  {
   "cell_type": "code",
   "execution_count": 276,
   "id": "622f08a7",
   "metadata": {},
   "outputs": [
    {
     "name": "stdout",
     "output_type": "stream",
     "text": [
      "[[12  3]\n",
      " [ 3  1]]\n"
     ]
    }
   ],
   "source": [
    "x2_sub = x2[:2, :2]\n",
    "print(x2_sub)"
   ]
  },
  {
   "cell_type": "code",
   "execution_count": 277,
   "id": "17c7054c",
   "metadata": {},
   "outputs": [
    {
     "name": "stdout",
     "output_type": "stream",
     "text": [
      "[[99  3]\n",
      " [ 3  1]]\n"
     ]
    }
   ],
   "source": [
    "x2_sub[0, 0] = 99\n",
    "print(x2_sub)"
   ]
  },
  {
   "cell_type": "code",
   "execution_count": 278,
   "id": "ecda9d32",
   "metadata": {},
   "outputs": [
    {
     "name": "stdout",
     "output_type": "stream",
     "text": [
      "[[99  3  5]\n",
      " [ 3  1  2]\n",
      " [ 4  5  2]]\n"
     ]
    }
   ],
   "source": [
    "print(x2)"
   ]
  },
  {
   "cell_type": "markdown",
   "id": "ea4fd1ff",
   "metadata": {},
   "source": [
    "\n",
    "This default behavior is actually quite useful: it means that when we work with large datasets, we can access and process pieces of these datasets without the need to copy the underlying data buffer."
   ]
  },
  {
   "cell_type": "markdown",
   "id": "40b95405",
   "metadata": {},
   "source": [
    "### Creating copies of arrays\n"
   ]
  },
  {
   "cell_type": "markdown",
   "id": "12b994b5",
   "metadata": {},
   "source": [
    "Despite the nice features of array views, it is sometimes useful to instead explicitly copy the data within an array or a subarray. This can be most easily done with the copy() method:"
   ]
  },
  {
   "cell_type": "code",
   "execution_count": 279,
   "id": "56d47705",
   "metadata": {},
   "outputs": [],
   "source": [
    "#Despite the nice features of array views, it is sometimes useful to instead explicitly copy the data within an array or a subarray. This can be most easily done with the copy() method:"
   ]
  },
  {
   "cell_type": "code",
   "execution_count": 280,
   "id": "52c478ae",
   "metadata": {},
   "outputs": [
    {
     "name": "stdout",
     "output_type": "stream",
     "text": [
      "[[99  3]\n",
      " [ 3  1]]\n"
     ]
    }
   ],
   "source": [
    "x2_sub_copy = x2[:2, :2].copy()\n",
    "print(x2_sub_copy)"
   ]
  },
  {
   "cell_type": "code",
   "execution_count": 281,
   "id": "1b4ffa24",
   "metadata": {},
   "outputs": [
    {
     "name": "stdout",
     "output_type": "stream",
     "text": [
      "[[42  3]\n",
      " [ 3  1]]\n"
     ]
    }
   ],
   "source": [
    "x2_sub_copy[0, 0] = 42\n",
    "print(x2_sub_copy)"
   ]
  },
  {
   "cell_type": "code",
   "execution_count": 282,
   "id": "f5cf14f0",
   "metadata": {},
   "outputs": [
    {
     "name": "stdout",
     "output_type": "stream",
     "text": [
      "[[99  3  5]\n",
      " [ 3  1  2]\n",
      " [ 4  5  2]]\n"
     ]
    }
   ],
   "source": [
    "print(x2)"
   ]
  },
  {
   "cell_type": "markdown",
   "id": "47c21134",
   "metadata": {},
   "source": [
    "### Reshaping arrays"
   ]
  },
  {
   "cell_type": "markdown",
   "id": "b055fcfb",
   "metadata": {},
   "source": [
    "Another useful type of operation is reshaping of arrays. The most flexible way of doing this is with the reshape method. For example, if you want to put the numbers 1 through 9 in a $3 \\times 3$ grid, you can do the following:"
   ]
  },
  {
   "cell_type": "code",
   "execution_count": 283,
   "id": "d7f16131",
   "metadata": {},
   "outputs": [
    {
     "name": "stdout",
     "output_type": "stream",
     "text": [
      "[[1 2 3]\n",
      " [4 5 6]\n",
      " [7 8 9]]\n"
     ]
    }
   ],
   "source": [
    "grid = np.arange(1, 10).reshape((3, 3))\n",
    "print(grid)"
   ]
  },
  {
   "cell_type": "markdown",
   "id": "dff23167",
   "metadata": {},
   "source": [
    "Note that for this to work, the size of the initial array must match the size of the reshaped array. "
   ]
  },
  {
   "cell_type": "markdown",
   "id": "57c71c14",
   "metadata": {},
   "source": [
    "Another common reshaping pattern is the conversion of a one-dimensional array into a two-dimensional row or column matrix. This can be done with the reshape method, or more easily done by making use of the newaxis keyword within a slice operation:"
   ]
  },
  {
   "cell_type": "code",
   "execution_count": 284,
   "id": "49da8289",
   "metadata": {},
   "outputs": [
    {
     "data": {
      "text/plain": [
       "array([[1, 2, 3]])"
      ]
     },
     "execution_count": 284,
     "metadata": {},
     "output_type": "execute_result"
    }
   ],
   "source": [
    "x = np.array([1, 2, 3])\n",
    "\n",
    "# row vector via reshape\n",
    "x.reshape((1, 3))"
   ]
  },
  {
   "cell_type": "code",
   "execution_count": 285,
   "id": "afb5f68d",
   "metadata": {},
   "outputs": [
    {
     "data": {
      "text/plain": [
       "array([[1],\n",
       "       [2],\n",
       "       [3]])"
      ]
     },
     "execution_count": 285,
     "metadata": {},
     "output_type": "execute_result"
    }
   ],
   "source": [
    "# column vector via reshape\n",
    "x.reshape((3, 1))"
   ]
  },
  {
   "cell_type": "markdown",
   "id": "d26e00bb",
   "metadata": {},
   "source": [
    "## Array concatenation and splitting"
   ]
  },
  {
   "cell_type": "markdown",
   "id": "e6de06d0",
   "metadata": {},
   "source": [
    "All of the preceding routines worked on single arrays. It's also possible to combine multiple arrays into one, and to conversely split a single array into multiple arrays. We'll take a look at those operations here."
   ]
  },
  {
   "cell_type": "markdown",
   "id": "306c786a",
   "metadata": {},
   "source": [
    "### Concatenation of arrays"
   ]
  },
  {
   "cell_type": "markdown",
   "id": "e4c334d0",
   "metadata": {},
   "source": [
    "Concatenation, or joining of two arrays in NumPy, is primarily accomplished using the routines np.concatenate, np.vstack, and np.hstack. np.concatenate takes a tuple or list of arrays as its first argument, as we can see here:"
   ]
  },
  {
   "cell_type": "code",
   "execution_count": 286,
   "id": "b4d71ef7",
   "metadata": {},
   "outputs": [
    {
     "data": {
      "text/plain": [
       "array([1, 2, 3, 3, 2, 1])"
      ]
     },
     "execution_count": 286,
     "metadata": {},
     "output_type": "execute_result"
    }
   ],
   "source": [
    "x = np.array([1, 2, 3])\n",
    "y = np.array([3, 2, 1])\n",
    "np.concatenate([x, y])"
   ]
  },
  {
   "cell_type": "code",
   "execution_count": 287,
   "id": "d92a3627",
   "metadata": {},
   "outputs": [
    {
     "name": "stdout",
     "output_type": "stream",
     "text": [
      "[ 1  2  3  3  2  1 99 99 99]\n"
     ]
    }
   ],
   "source": [
    "z = [99, 99, 99] #You can also concatenate more than two arrays at once\n",
    "print(np.concatenate([x, y, z]))"
   ]
  },
  {
   "cell_type": "code",
   "execution_count": 288,
   "id": "bab035ee",
   "metadata": {},
   "outputs": [],
   "source": [
    "grid = np.array([[1, 2, 3],\n",
    "                 [4, 5, 6]])"
   ]
  },
  {
   "cell_type": "code",
   "execution_count": 289,
   "id": "cd0ed476",
   "metadata": {},
   "outputs": [
    {
     "data": {
      "text/plain": [
       "array([[1, 2, 3],\n",
       "       [4, 5, 6],\n",
       "       [1, 2, 3],\n",
       "       [4, 5, 6]])"
      ]
     },
     "execution_count": 289,
     "metadata": {},
     "output_type": "execute_result"
    }
   ],
   "source": [
    "# concatenate along the first axis\n",
    "np.concatenate([grid, grid])"
   ]
  },
  {
   "cell_type": "code",
   "execution_count": 290,
   "id": "7c89a243",
   "metadata": {},
   "outputs": [
    {
     "data": {
      "text/plain": [
       "array([[1, 2, 3, 1, 2, 3],\n",
       "       [4, 5, 6, 4, 5, 6]])"
      ]
     },
     "execution_count": 290,
     "metadata": {},
     "output_type": "execute_result"
    }
   ],
   "source": [
    "# concatenate along the second axis (zero-indexed)\n",
    "np.concatenate([grid, grid], axis=1)"
   ]
  },
  {
   "cell_type": "code",
   "execution_count": 291,
   "id": "4474a82e",
   "metadata": {},
   "outputs": [
    {
     "data": {
      "text/plain": [
       "array([[1, 2, 3],\n",
       "       [9, 8, 7],\n",
       "       [6, 5, 4]])"
      ]
     },
     "execution_count": 291,
     "metadata": {},
     "output_type": "execute_result"
    }
   ],
   "source": [
    "x = np.array([1, 2, 3])\n",
    "grid = np.array([[9, 8, 7],\n",
    "                 [6, 5, 4]])\n",
    "\n",
    "# vertically stack the arrays\n",
    "np.vstack([x, grid])"
   ]
  },
  {
   "cell_type": "code",
   "execution_count": 292,
   "id": "16354a8f",
   "metadata": {},
   "outputs": [
    {
     "data": {
      "text/plain": [
       "array([[ 9,  8,  7, 99],\n",
       "       [ 6,  5,  4, 99]])"
      ]
     },
     "execution_count": 292,
     "metadata": {},
     "output_type": "execute_result"
    }
   ],
   "source": [
    "# horizontally stack the arrays\n",
    "y = np.array([[99],\n",
    "              [99]])\n",
    "np.hstack([grid, y])"
   ]
  },
  {
   "cell_type": "markdown",
   "id": "ac696747",
   "metadata": {},
   "source": [
    "### Splitting Arrays\n"
   ]
  },
  {
   "cell_type": "markdown",
   "id": "26aceeeb",
   "metadata": {},
   "source": [
    "We can also do the opposite of concatenation and split the array instead. This can be done by implementing functions np.split, np.hsplit, np.vsplit. "
   ]
  },
  {
   "cell_type": "code",
   "execution_count": 293,
   "id": "67c3f7c6",
   "metadata": {},
   "outputs": [
    {
     "name": "stdout",
     "output_type": "stream",
     "text": [
      "[1 2 3] [99 99] [3 2 1]\n"
     ]
    }
   ],
   "source": [
    "x = [1, 2, 3, 99, 99, 3, 2, 1]\n",
    "x1, x2, x3 = np.split(x, [3, 5])\n",
    "print(x1, x2, x3)"
   ]
  },
  {
   "cell_type": "markdown",
   "id": "b0fa78c2",
   "metadata": {},
   "source": [
    "Notice that N split-points, leads to N + 1 subarrays. The related functions np.hsplit and np.vsplit are similar:\n",
    "\n"
   ]
  },
  {
   "cell_type": "code",
   "execution_count": 294,
   "id": "3feec40c",
   "metadata": {},
   "outputs": [
    {
     "data": {
      "text/plain": [
       "array([[ 0,  1,  2,  3],\n",
       "       [ 4,  5,  6,  7],\n",
       "       [ 8,  9, 10, 11],\n",
       "       [12, 13, 14, 15]])"
      ]
     },
     "execution_count": 294,
     "metadata": {},
     "output_type": "execute_result"
    }
   ],
   "source": [
    "grid = np.arange(16).reshape((4, 4))\n",
    "grid"
   ]
  },
  {
   "cell_type": "code",
   "execution_count": 295,
   "id": "ccf36801",
   "metadata": {},
   "outputs": [
    {
     "name": "stdout",
     "output_type": "stream",
     "text": [
      "[[0 1 2 3]\n",
      " [4 5 6 7]]\n",
      "[[ 8  9 10 11]\n",
      " [12 13 14 15]]\n"
     ]
    }
   ],
   "source": [
    "upper, lower = np.vsplit(grid, [2])\n",
    "print(upper)\n",
    "print(lower)"
   ]
  },
  {
   "cell_type": "code",
   "execution_count": 296,
   "id": "76ddafe6",
   "metadata": {},
   "outputs": [
    {
     "name": "stdout",
     "output_type": "stream",
     "text": [
      "[[ 0  1]\n",
      " [ 4  5]\n",
      " [ 8  9]\n",
      " [12 13]]\n",
      "[[ 2  3]\n",
      " [ 6  7]\n",
      " [10 11]\n",
      " [14 15]]\n"
     ]
    }
   ],
   "source": [
    "left, right = np.hsplit(grid, [2])\n",
    "print(left)\n",
    "print(right)"
   ]
  },
  {
   "cell_type": "markdown",
   "id": "7644b388",
   "metadata": {},
   "source": [
    "# Fancy Indexing\n"
   ]
  },
  {
   "cell_type": "markdown",
   "id": "51aacb27",
   "metadata": {},
   "source": [
    "Fancy indexing is conceptually simple: it means passing an array of indices to access multiple array elements at once. For example, consider the following array:"
   ]
  },
  {
   "cell_type": "code",
   "execution_count": 297,
   "id": "1d0787c1",
   "metadata": {},
   "outputs": [
    {
     "name": "stdout",
     "output_type": "stream",
     "text": [
      "[51 92 14 71 60 20 82 86 74 74]\n"
     ]
    }
   ],
   "source": [
    "import numpy as np\n",
    "rand = np.random.RandomState(42)\n",
    "\n",
    "# Return Random Numbers from discrete uniform distributions \n",
    "\n",
    "x = rand.randint(100,high=None,size=10)\n",
    "print(x)"
   ]
  },
  {
   "cell_type": "markdown",
   "id": "ca048b9c",
   "metadata": {},
   "source": [
    "Suppose we want to access three different elements. We could do it like this:"
   ]
  },
  {
   "cell_type": "code",
   "execution_count": 298,
   "id": "c0fbf1ad",
   "metadata": {},
   "outputs": [
    {
     "data": {
      "text/plain": [
       "[71, 86, 14]"
      ]
     },
     "execution_count": 298,
     "metadata": {},
     "output_type": "execute_result"
    }
   ],
   "source": [
    "[x[3], x[7], x[2]]"
   ]
  },
  {
   "cell_type": "markdown",
   "id": "4505216d",
   "metadata": {},
   "source": [
    "Alternatively, we can pass a single list or array of indices to obtain the same result:"
   ]
  },
  {
   "cell_type": "code",
   "execution_count": 299,
   "id": "49d884bb",
   "metadata": {},
   "outputs": [
    {
     "data": {
      "text/plain": [
       "array([71, 86, 60])"
      ]
     },
     "execution_count": 299,
     "metadata": {},
     "output_type": "execute_result"
    }
   ],
   "source": [
    "ind = [3, 7, 4]\n",
    "x[ind]"
   ]
  },
  {
   "cell_type": "markdown",
   "id": "27c4a599",
   "metadata": {},
   "source": [
    "When using fancy indexing, the shape of the result reflects the shape of the index arrays rather than the shape of the array being indexed:"
   ]
  },
  {
   "cell_type": "code",
   "execution_count": 300,
   "id": "c2e75efb",
   "metadata": {},
   "outputs": [
    {
     "data": {
      "text/plain": [
       "array([[71, 86],\n",
       "       [60, 20]])"
      ]
     },
     "execution_count": 300,
     "metadata": {},
     "output_type": "execute_result"
    }
   ],
   "source": [
    "ind = np.array([[3, 7],\n",
    "                [4, 5]])\n",
    "x[ind]"
   ]
  },
  {
   "cell_type": "markdown",
   "id": "3cc65dac",
   "metadata": {},
   "source": [
    "Fancy indexing also works with multi-dimensional array. Example:"
   ]
  },
  {
   "cell_type": "code",
   "execution_count": 301,
   "id": "18d38b2e",
   "metadata": {},
   "outputs": [
    {
     "data": {
      "text/plain": [
       "array([[ 0,  1,  2,  3],\n",
       "       [ 4,  5,  6,  7],\n",
       "       [ 8,  9, 10, 11]])"
      ]
     },
     "execution_count": 301,
     "metadata": {},
     "output_type": "execute_result"
    }
   ],
   "source": [
    "X = np.arange(12).reshape((3, 4))\n",
    "X"
   ]
  },
  {
   "cell_type": "code",
   "execution_count": 302,
   "id": "b9881989",
   "metadata": {},
   "outputs": [
    {
     "data": {
      "text/plain": [
       "(3,)"
      ]
     },
     "execution_count": 302,
     "metadata": {},
     "output_type": "execute_result"
    }
   ],
   "source": [
    "row = np.array([0, 1, 2])\n",
    "col = np.array([2, 1, 3])\n",
    "X[row, col]\n",
    "row.shape"
   ]
  },
  {
   "cell_type": "markdown",
   "id": "0b8d5638",
   "metadata": {},
   "source": [
    "Notice that the first value in the result is X[0, 2], the second is X[1, 1], and the third is X[2, 3]. "
   ]
  },
  {
   "cell_type": "code",
   "execution_count": 303,
   "id": "2f2c3513",
   "metadata": {},
   "outputs": [
    {
     "data": {
      "text/plain": [
       "array([[ 0,  1,  2,  3],\n",
       "       [ 4,  5,  6,  7],\n",
       "       [ 8,  9, 10, 11]])"
      ]
     },
     "execution_count": 303,
     "metadata": {},
     "output_type": "execute_result"
    }
   ],
   "source": [
    "X"
   ]
  },
  {
   "cell_type": "markdown",
   "id": "0c4f7e70",
   "metadata": {},
   "source": [
    "We can combine fancy and simple indices:"
   ]
  },
  {
   "cell_type": "code",
   "execution_count": 304,
   "id": "8299ad6c",
   "metadata": {},
   "outputs": [
    {
     "data": {
      "text/plain": [
       "array([10,  8,  9])"
      ]
     },
     "execution_count": 304,
     "metadata": {},
     "output_type": "execute_result"
    }
   ],
   "source": [
    "X[2, [2, 0, 1]]"
   ]
  },
  {
   "cell_type": "markdown",
   "id": "ddffcd49",
   "metadata": {},
   "source": [
    "We can also combine fancy indexing with slicing:"
   ]
  },
  {
   "cell_type": "code",
   "execution_count": 305,
   "id": "304ce3fd",
   "metadata": {},
   "outputs": [
    {
     "data": {
      "text/plain": [
       "array([[ 6,  4,  5],\n",
       "       [10,  8,  9]])"
      ]
     },
     "execution_count": 305,
     "metadata": {},
     "output_type": "execute_result"
    }
   ],
   "source": [
    "X\n",
    "X[1:, [2, 0, 1]]"
   ]
  },
  {
   "cell_type": "code",
   "execution_count": 306,
   "id": "e14dd2f7",
   "metadata": {},
   "outputs": [
    {
     "data": {
      "text/plain": [
       "array([[ 0,  2],\n",
       "       [ 4,  6],\n",
       "       [ 8, 10]])"
      ]
     },
     "execution_count": 306,
     "metadata": {},
     "output_type": "execute_result"
    }
   ],
   "source": [
    "# And we can combine fancy indexing with masking:\n",
    "mask = np.array([1, 0, 1, 0], dtype=bool)\n",
    "X[row[:, np.newaxis], mask]"
   ]
  },
  {
   "cell_type": "code",
   "execution_count": 307,
   "id": "fb6bb68f",
   "metadata": {},
   "outputs": [
    {
     "data": {
      "text/plain": [
       "array([[[ 0,  1,  2,  3]],\n",
       "\n",
       "       [[ 4,  5,  6,  7]],\n",
       "\n",
       "       [[ 8,  9, 10, 11]]])"
      ]
     },
     "execution_count": 307,
     "metadata": {},
     "output_type": "execute_result"
    }
   ],
   "source": [
    "X[row[:, np.newaxis]]"
   ]
  },
  {
   "cell_type": "code",
   "execution_count": 308,
   "id": "5b9747c2",
   "metadata": {},
   "outputs": [
    {
     "data": {
      "text/plain": [
       "array([ True, False,  True, False])"
      ]
     },
     "execution_count": 308,
     "metadata": {},
     "output_type": "execute_result"
    }
   ],
   "source": [
    "mask"
   ]
  },
  {
   "cell_type": "markdown",
   "id": "32d0169a",
   "metadata": {},
   "source": [
    "### Modifying values with fancy indexing"
   ]
  },
  {
   "cell_type": "markdown",
   "id": "9e109a4f",
   "metadata": {},
   "source": [
    "Just as fancy indexing can be used to access parts of an array, it can also be used to modify parts of an array. For example, imagine we have an array of indices and we'd like to set the corresponding items in an array to some value:"
   ]
  },
  {
   "cell_type": "code",
   "execution_count": 309,
   "id": "356b4911",
   "metadata": {},
   "outputs": [
    {
     "name": "stdout",
     "output_type": "stream",
     "text": [
      "[ 0 99 99  3 99  5  6  7 99  9]\n"
     ]
    }
   ],
   "source": [
    "x = np.arange(10)\n",
    "i = np.array([2, 1, 8, 4])\n",
    "x[i] = 99\n",
    "print(x)"
   ]
  },
  {
   "cell_type": "code",
   "execution_count": 310,
   "id": "bc0f4879",
   "metadata": {},
   "outputs": [
    {
     "name": "stdout",
     "output_type": "stream",
     "text": [
      "[ 0 89 89  3 89  5  6  7 89  9]\n"
     ]
    }
   ],
   "source": [
    "# We can use any assignment-type operator for this. For example:\n",
    "x[i] -= 10\n",
    "print(x)"
   ]
  },
  {
   "cell_type": "markdown",
   "id": "e636ff26",
   "metadata": {},
   "source": [
    "Notice, though, that repeated indices with these operations can cause some potentially unexpected results. Consider the following:"
   ]
  },
  {
   "cell_type": "code",
   "execution_count": 311,
   "id": "95b8c9b5",
   "metadata": {},
   "outputs": [
    {
     "name": "stdout",
     "output_type": "stream",
     "text": [
      "[6. 0. 0. 0. 0. 0. 0. 0. 0. 0.]\n"
     ]
    }
   ],
   "source": [
    "x = np.zeros(10)\n",
    "x[[0, 0]] = [4, 6]\n",
    "print(x)"
   ]
  },
  {
   "cell_type": "markdown",
   "id": "4abbece7",
   "metadata": {},
   "source": [
    "Where did the 4 go? The result of this operation is to first assign x[0] = 4, followed by x[0] = 6. The result, of course, is that x[0] contains the value 6.\n",
    "\n",
    "Fair enough, but consider this operation:"
   ]
  },
  {
   "cell_type": "code",
   "execution_count": 312,
   "id": "ec6742b7",
   "metadata": {},
   "outputs": [
    {
     "data": {
      "text/plain": [
       "array([6., 0., 0., 0., 0., 0., 0., 0., 0., 0.])"
      ]
     },
     "execution_count": 312,
     "metadata": {},
     "output_type": "execute_result"
    }
   ],
   "source": [
    "x"
   ]
  },
  {
   "cell_type": "code",
   "execution_count": 313,
   "id": "60ed2892",
   "metadata": {},
   "outputs": [
    {
     "data": {
      "text/plain": [
       "array([6., 0., 1., 1., 1., 0., 0., 0., 0., 0.])"
      ]
     },
     "execution_count": 313,
     "metadata": {},
     "output_type": "execute_result"
    }
   ],
   "source": [
    "i = [2, 3, 3, 4, 4, 4]\n",
    "x[i] += 1\n",
    "x"
   ]
  },
  {
   "cell_type": "markdown",
   "id": "b5839ff6",
   "metadata": {},
   "source": [
    "## Aggregations\n"
   ]
  },
  {
   "cell_type": "markdown",
   "id": "4ce8e405",
   "metadata": {},
   "source": [
    "Computing summary statistics of a large amount of data is usually the first step. Important summary statistics are mean and standard deviation but other aggregates are useful as well (sum, product,median, minimum, maximum, quantiles, etc.)\n",
    "\n",
    "Numpy has fast built-in aggregation functions for working with arrays."
   ]
  },
  {
   "cell_type": "markdown",
   "id": "14c7416f",
   "metadata": {},
   "source": [
    "### Summing all the values in an array\n"
   ]
  },
  {
   "cell_type": "code",
   "execution_count": 314,
   "id": "48701f74",
   "metadata": {},
   "outputs": [],
   "source": [
    "import numpy as np"
   ]
  },
  {
   "cell_type": "code",
   "execution_count": 315,
   "id": "8692fb36",
   "metadata": {},
   "outputs": [
    {
     "data": {
      "text/plain": [
       "array([0.65279032, 0.63505887, 0.99529957, 0.58185033, 0.41436859,\n",
       "       0.4746975 , 0.6235101 , 0.33800761, 0.67475232, 0.31720174,\n",
       "       0.77834548, 0.94957105, 0.66252687, 0.01357164, 0.6228461 ,\n",
       "       0.67365963, 0.971945  , 0.87819347, 0.50962438, 0.05571469,\n",
       "       0.45115921, 0.01998767, 0.44171092, 0.97958673, 0.35944446,\n",
       "       0.48089353, 0.68866118, 0.88047589, 0.91823547, 0.21682214,\n",
       "       0.56518887, 0.86510256, 0.50896896, 0.91672295, 0.92115761,\n",
       "       0.08311249, 0.27771856, 0.0093567 , 0.84234208, 0.64717414,\n",
       "       0.84138612, 0.26473016, 0.39782075, 0.55282148, 0.16494046,\n",
       "       0.36980809, 0.14644176, 0.56961841, 0.70373728, 0.28847644,\n",
       "       0.43328806, 0.75610669, 0.39609828, 0.89603839, 0.63892108,\n",
       "       0.89155444, 0.68005557, 0.44919774, 0.97857093, 0.11620191,\n",
       "       0.7670237 , 0.41182014, 0.67543908, 0.24979628, 0.31321833,\n",
       "       0.96541622, 0.58846509, 0.65966841, 0.53320625, 0.23053302,\n",
       "       0.39486929, 0.61880856, 0.47486752, 0.47013219, 0.71607453,\n",
       "       0.287991  , 0.38346223, 0.74916984, 0.87845219, 0.10286336,\n",
       "       0.09237389, 0.35404666, 0.55181626, 0.03362509, 0.96896177,\n",
       "       0.32099724, 0.22126269, 0.1412639 , 0.09725993, 0.98404224,\n",
       "       0.26034093, 0.53702252, 0.44792617, 0.09956909, 0.35231166,\n",
       "       0.46924917, 0.84114013, 0.90464774, 0.03755938, 0.50831545])"
      ]
     },
     "execution_count": 315,
     "metadata": {},
     "output_type": "execute_result"
    }
   ],
   "source": [
    "L = np.random.random(100)\n",
    "L"
   ]
  },
  {
   "cell_type": "code",
   "execution_count": 316,
   "id": "f3bc0725",
   "metadata": {},
   "outputs": [
    {
     "data": {
      "text/plain": [
       "52.12818058833702"
      ]
     },
     "execution_count": 316,
     "metadata": {},
     "output_type": "execute_result"
    }
   ],
   "source": [
    "## Sum of all the elements in Matrix L\n",
    "\n",
    "np.sum(L) "
   ]
  },
  {
   "cell_type": "markdown",
   "id": "ea7c7f74",
   "metadata": {},
   "source": [
    "## Maximum and Minimum\n"
   ]
  },
  {
   "cell_type": "markdown",
   "id": "7daaaf48",
   "metadata": {},
   "source": [
    "NumPy has built in min and max functions"
   ]
  },
  {
   "cell_type": "code",
   "execution_count": 317,
   "id": "6dd1f37b",
   "metadata": {},
   "outputs": [
    {
     "data": {
      "text/plain": [
       "(0.009356704856532616, 0.9952995676778876)"
      ]
     },
     "execution_count": 317,
     "metadata": {},
     "output_type": "execute_result"
    }
   ],
   "source": [
    "np.min(L), np.max(L)"
   ]
  },
  {
   "cell_type": "markdown",
   "id": "80112c7f",
   "metadata": {},
   "source": [
    "For min, max, sum, and several other NumPy aggregates, a shorter syntax is to use methods of the array object itself:"
   ]
  },
  {
   "cell_type": "code",
   "execution_count": 318,
   "id": "d7d09b66",
   "metadata": {},
   "outputs": [
    {
     "name": "stdout",
     "output_type": "stream",
     "text": [
      "0.009356704856532616, 0.9952995676778876, 52.12818058833702\n"
     ]
    }
   ],
   "source": [
    "print(f\"{L.min()}, {L.max()}, {L.sum()}\")"
   ]
  },
  {
   "cell_type": "code",
   "execution_count": 319,
   "id": "c7147e00",
   "metadata": {},
   "outputs": [
    {
     "name": "stdout",
     "output_type": "stream",
     "text": [
      "Max: 0.00936, Min: 0.99530, Sum: 52.12818\n"
     ]
    }
   ],
   "source": [
    "print('Max: %3.5f, Min: %3.5f, Sum: %3.5f' %(L.min(), L.max(), L.sum()))"
   ]
  },
  {
   "cell_type": "markdown",
   "id": "c16753b0",
   "metadata": {},
   "source": [
    "## Multi-dimensional aggregates"
   ]
  },
  {
   "cell_type": "markdown",
   "id": "c6b2b7b5",
   "metadata": {},
   "source": [
    "One common type of aggregation operation is an aggregate along a row or column. Say you have some data stored in a two-dimensional array:"
   ]
  },
  {
   "cell_type": "markdown",
   "id": "7c154ef2",
   "metadata": {},
   "source": [
    "One common type of aggregation operation is an aggregate along a row or column. Say you have some data stored in a two-dimensional array:"
   ]
  },
  {
   "cell_type": "code",
   "execution_count": 320,
   "id": "4c0c3906",
   "metadata": {},
   "outputs": [
    {
     "name": "stdout",
     "output_type": "stream",
     "text": [
      "[[0.16684751 0.77905102 0.8649333  0.41139672]\n",
      " [0.13997259 0.03322239 0.98257496 0.37329075]\n",
      " [0.42007537 0.05058812 0.36549611 0.01662797]]\n"
     ]
    }
   ],
   "source": [
    "M = np.random.random((3, 4))\n",
    "print(M)"
   ]
  },
  {
   "cell_type": "markdown",
   "id": "38c809cd",
   "metadata": {},
   "source": [
    "By default, each NumPy aggregation function will return the aggregate over the entire array:"
   ]
  },
  {
   "cell_type": "code",
   "execution_count": 321,
   "id": "235a18b2",
   "metadata": {},
   "outputs": [
    {
     "data": {
      "text/plain": [
       "4.604076798225436"
      ]
     },
     "execution_count": 321,
     "metadata": {},
     "output_type": "execute_result"
    }
   ],
   "source": [
    "M.sum()"
   ]
  },
  {
   "cell_type": "markdown",
   "id": "b451cddd",
   "metadata": {},
   "source": [
    "Aggregation functions take an additional argument specifying the axis along which the aggregate is computed. For example, we can find the minimum value within each column by specifying axis=0:"
   ]
  },
  {
   "cell_type": "code",
   "execution_count": 322,
   "id": "23da75b0",
   "metadata": {},
   "outputs": [
    {
     "data": {
      "text/plain": [
       "array([0.13997259, 0.03322239, 0.36549611, 0.01662797])"
      ]
     },
     "execution_count": 322,
     "metadata": {},
     "output_type": "execute_result"
    }
   ],
   "source": [
    "M.min(axis=0) #The function returns four values, corresponding to the four columns of numbers"
   ]
  },
  {
   "cell_type": "code",
   "execution_count": 323,
   "id": "66f0938d",
   "metadata": {},
   "outputs": [
    {
     "data": {
      "text/plain": [
       "array([0.8649333 , 0.98257496, 0.42007537])"
      ]
     },
     "execution_count": 323,
     "metadata": {},
     "output_type": "execute_result"
    }
   ],
   "source": [
    "#Similarly, we can find the maximum value within each row\n",
    "M.max(axis=1)"
   ]
  },
  {
   "cell_type": "markdown",
   "id": "5013f4cc",
   "metadata": {},
   "source": [
    "The axis keyword specifies the dimension of the array that will be collapsed, rather than the dimension that will be returned. So specifying axis=0 means that the first axis will be collapsed: for two-dimensional arrays, this means that values within each column will be aggregated."
   ]
  },
  {
   "cell_type": "markdown",
   "id": "bda47c80",
   "metadata": {},
   "source": [
    "### Other aggregation functions\n",
    "\n",
    "NumPy provides many other aggregation functions, but we won't discuss them in detail here.\n",
    "Additionally, most aggregates have a ``NaN``-safe counterpart that computes the result while ignoring missing values, which are marked by the special IEEE floating-point ``NaN`` value.\n",
    "\n",
    "Some of these ``NaN``-safe functions were not added until NumPy 1.8, so they will not be available in older NumPy versions.\n",
    "\n",
    "The following table provides a list of useful aggregation functions available in NumPy:\n",
    "\n",
    "|Function Name      |   NaN-safe Version  | Description                                   |\n",
    "|-------------------|---------------------|-----------------------------------------------|\n",
    "| ``np.sum``        | ``np.nansum``       | Compute sum of elements                       |\n",
    "| ``np.prod``       | ``np.nanprod``      | Compute product of elements                   |\n",
    "| ``np.mean``       | ``np.nanmean``      | Compute mean of elements                      |\n",
    "| ``np.std``        | ``np.nanstd``       | Compute standard deviation                    |\n",
    "| ``np.var``        | ``np.nanvar``       | Compute variance                              |\n",
    "| ``np.min``        | ``np.nanmin``       | Find minimum value                            |\n",
    "| ``np.max``        | ``np.nanmax``       | Find maximum value                            |\n",
    "| ``np.argmin``     | ``np.nanargmin``    | Find index of minimum value                   |\n",
    "| ``np.argmax``     | ``np.nanargmax``    | Find index of maximum value                   |\n",
    "| ``np.median``     | ``np.nanmedian``    | Compute median of elements                    |\n",
    "| ``np.percentile`` | ``np.nanpercentile``| Compute rank-based statistics of elements     |\n",
    "| ``np.any``        | N/A                 | Evaluate whether any elements are true        |\n",
    "| ``np.all``        | N/A                 | Evaluate whether all elements are true        |\n"
   ]
  },
  {
   "cell_type": "markdown",
   "id": "721780ce",
   "metadata": {},
   "source": [
    "## Computation on Arrays: Broadcasting\n"
   ]
  },
  {
   "cell_type": "markdown",
   "id": "9e821c5c",
   "metadata": {},
   "source": [
    "Recall that for arrays of the same size, binary operations are performed on an element-by-element basis:\n",
    "\n"
   ]
  },
  {
   "cell_type": "code",
   "execution_count": 324,
   "id": "71196fd0",
   "metadata": {},
   "outputs": [
    {
     "data": {
      "text/plain": [
       "array([5, 6, 7])"
      ]
     },
     "execution_count": 324,
     "metadata": {},
     "output_type": "execute_result"
    }
   ],
   "source": [
    "import numpy as np\n",
    "\n",
    "a = np.array([0, 1, 2])\n",
    "b = np.array([5, 5, 5])\n",
    "a + b"
   ]
  },
  {
   "cell_type": "markdown",
   "id": "47b88627",
   "metadata": {},
   "source": [
    "Broadcasting allows these types of binary operations to be performed on arrays of different sizes–for example, we can just as easily add a scalar (think of it as a zero-dimensional array) to an array:"
   ]
  },
  {
   "cell_type": "code",
   "execution_count": 325,
   "id": "67dc6114",
   "metadata": {},
   "outputs": [
    {
     "data": {
      "text/plain": [
       "array([5, 6, 7])"
      ]
     },
     "execution_count": 325,
     "metadata": {},
     "output_type": "execute_result"
    }
   ],
   "source": [
    "a+5"
   ]
  },
  {
   "cell_type": "code",
   "execution_count": 326,
   "id": "9068c3dd",
   "metadata": {},
   "outputs": [
    {
     "data": {
      "text/plain": [
       "array([[1., 1., 1.],\n",
       "       [1., 1., 1.],\n",
       "       [1., 1., 1.]])"
      ]
     },
     "execution_count": 326,
     "metadata": {},
     "output_type": "execute_result"
    }
   ],
   "source": [
    "M = np.ones((3, 3))\n",
    "M"
   ]
  },
  {
   "cell_type": "code",
   "execution_count": 327,
   "id": "fa763620",
   "metadata": {},
   "outputs": [
    {
     "data": {
      "text/plain": [
       "array([[1., 2., 3.],\n",
       "       [1., 2., 3.],\n",
       "       [1., 2., 3.]])"
      ]
     },
     "execution_count": 327,
     "metadata": {},
     "output_type": "execute_result"
    }
   ],
   "source": [
    "M + a"
   ]
  },
  {
   "cell_type": "code",
   "execution_count": null,
   "id": "bbe14e8a",
   "metadata": {},
   "outputs": [],
   "source": []
  },
  {
   "cell_type": "code",
   "execution_count": 328,
   "id": "f16349c0",
   "metadata": {},
   "outputs": [
    {
     "data": {
      "text/plain": [
       "array([[6., 6., 6.],\n",
       "       [6., 6., 6.],\n",
       "       [6., 6., 6.]])"
      ]
     },
     "execution_count": 328,
     "metadata": {},
     "output_type": "execute_result"
    }
   ],
   "source": [
    "M+5"
   ]
  },
  {
   "cell_type": "markdown",
   "id": "acaa1f22",
   "metadata": {},
   "source": [
    "### Broadcasting example\n"
   ]
  },
  {
   "cell_type": "code",
   "execution_count": 329,
   "id": "df4cea02",
   "metadata": {},
   "outputs": [],
   "source": [
    "X = np.random.random((10, 3))"
   ]
  },
  {
   "cell_type": "markdown",
   "id": "24ac7dc9",
   "metadata": {},
   "source": [
    "We can compute the mean of each feature using the mean aggregate across the first dimension:"
   ]
  },
  {
   "cell_type": "code",
   "execution_count": 330,
   "id": "b8ae5ad7",
   "metadata": {},
   "outputs": [
    {
     "data": {
      "text/plain": [
       "array([0.55211265, 0.4605475 , 0.63496538])"
      ]
     },
     "execution_count": 330,
     "metadata": {},
     "output_type": "execute_result"
    }
   ],
   "source": [
    "Xmean = X.mean(0)\n",
    "Xmean"
   ]
  },
  {
   "cell_type": "markdown",
   "id": "f394058d",
   "metadata": {},
   "source": [
    "And now we can center the X array by subtracting the mean (this is a broadcasting operation):"
   ]
  },
  {
   "cell_type": "code",
   "execution_count": 331,
   "id": "e36b38e4",
   "metadata": {},
   "outputs": [],
   "source": [
    "X_centered = X - Xmean"
   ]
  },
  {
   "cell_type": "code",
   "execution_count": 332,
   "id": "f598d608",
   "metadata": {},
   "outputs": [
    {
     "data": {
      "text/plain": [
       "array([ 4.44089210e-17,  4.44089210e-17, -1.11022302e-16])"
      ]
     },
     "execution_count": 332,
     "metadata": {},
     "output_type": "execute_result"
    }
   ],
   "source": [
    "X_centered.mean(0)"
   ]
  },
  {
   "cell_type": "code",
   "execution_count": 333,
   "id": "f89f076a",
   "metadata": {},
   "outputs": [
    {
     "data": {
      "text/plain": [
       "0.0"
      ]
     },
     "execution_count": 333,
     "metadata": {},
     "output_type": "execute_result"
    }
   ],
   "source": [
    "X_centered.mean() #To within machine precision, the mean is now zero."
   ]
  },
  {
   "cell_type": "markdown",
   "id": "84294568",
   "metadata": {},
   "source": [
    "# Comparisions, Masks and Boolean Logic"
   ]
  },
  {
   "cell_type": "markdown",
   "id": "c63f458b",
   "metadata": {},
   "source": [
    "This section covers the use of Boolean masks to examine and manipulate values within NumPy arrays. Masking comes up when you want to extract, modify, count, or otherwise manipulate values in an array based on some criterion: for example, you might wish to count all values greater than a certain value, or perhaps remove all outliers that are above some threshold. In NumPy, Boolean masking is often the most efficient way to accomplish these types of tasks."
   ]
  },
  {
   "cell_type": "markdown",
   "id": "57945732",
   "metadata": {},
   "source": [
    "### Comparision Operators"
   ]
  },
  {
   "cell_type": "code",
   "execution_count": 334,
   "id": "de293c03",
   "metadata": {},
   "outputs": [
    {
     "data": {
      "text/plain": [
       "array([1, 2, 3, 4, 5])"
      ]
     },
     "execution_count": 334,
     "metadata": {},
     "output_type": "execute_result"
    }
   ],
   "source": [
    "x = np.array([1, 2, 3, 4, 5])\n",
    "x"
   ]
  },
  {
   "cell_type": "code",
   "execution_count": 335,
   "id": "9c0d9066",
   "metadata": {},
   "outputs": [
    {
     "data": {
      "text/plain": [
       "array([ True,  True, False, False, False])"
      ]
     },
     "execution_count": 335,
     "metadata": {},
     "output_type": "execute_result"
    }
   ],
   "source": [
    "# less than\n",
    "x < 3 "
   ]
  },
  {
   "cell_type": "code",
   "execution_count": 336,
   "id": "e988da18",
   "metadata": {},
   "outputs": [
    {
     "data": {
      "text/plain": [
       "array([False, False, False,  True,  True])"
      ]
     },
     "execution_count": 336,
     "metadata": {},
     "output_type": "execute_result"
    }
   ],
   "source": [
    "# greater than\n",
    "x > 3  "
   ]
  },
  {
   "cell_type": "code",
   "execution_count": 337,
   "id": "9cc640f6",
   "metadata": {},
   "outputs": [
    {
     "data": {
      "text/plain": [
       "array([ True,  True,  True, False, False])"
      ]
     },
     "execution_count": 337,
     "metadata": {},
     "output_type": "execute_result"
    }
   ],
   "source": [
    "# less than or equal\n",
    "x <= 3  "
   ]
  },
  {
   "cell_type": "code",
   "execution_count": 338,
   "id": "80d3f546",
   "metadata": {},
   "outputs": [
    {
     "data": {
      "text/plain": [
       "array([False, False,  True,  True,  True])"
      ]
     },
     "execution_count": 338,
     "metadata": {},
     "output_type": "execute_result"
    }
   ],
   "source": [
    "# greater than or equal\n",
    "x >= 3  "
   ]
  },
  {
   "cell_type": "code",
   "execution_count": 339,
   "id": "fd44b11b",
   "metadata": {},
   "outputs": [
    {
     "data": {
      "text/plain": [
       "array([ True,  True, False,  True,  True])"
      ]
     },
     "execution_count": 339,
     "metadata": {},
     "output_type": "execute_result"
    }
   ],
   "source": [
    "# not equal\n",
    "x != 3  "
   ]
  },
  {
   "cell_type": "code",
   "execution_count": 340,
   "id": "9bd3aecd",
   "metadata": {},
   "outputs": [
    {
     "data": {
      "text/plain": [
       "array([False, False,  True, False, False])"
      ]
     },
     "execution_count": 340,
     "metadata": {},
     "output_type": "execute_result"
    }
   ],
   "source": [
    "x == 3  # equal"
   ]
  },
  {
   "cell_type": "code",
   "execution_count": 341,
   "id": "925b8dc6",
   "metadata": {},
   "outputs": [
    {
     "data": {
      "text/plain": [
       "array([False,  True, False, False, False])"
      ]
     },
     "execution_count": 341,
     "metadata": {},
     "output_type": "execute_result"
    }
   ],
   "source": [
    "(2 * x) == (x ** 2)"
   ]
  },
  {
   "cell_type": "code",
   "execution_count": 342,
   "id": "727db25c",
   "metadata": {},
   "outputs": [
    {
     "data": {
      "text/plain": [
       "array([[5, 0, 3, 3],\n",
       "       [7, 9, 3, 5],\n",
       "       [2, 4, 7, 6]])"
      ]
     },
     "execution_count": 342,
     "metadata": {},
     "output_type": "execute_result"
    }
   ],
   "source": [
    "rng = np.random.RandomState(0)\n",
    "x = rng.randint(10, size=(3, 4))\n",
    "x"
   ]
  },
  {
   "cell_type": "code",
   "execution_count": 343,
   "id": "e2d4b8ba",
   "metadata": {},
   "outputs": [
    {
     "data": {
      "text/plain": [
       "array([[ True,  True,  True,  True],\n",
       "       [False, False,  True,  True],\n",
       "       [ True,  True, False, False]])"
      ]
     },
     "execution_count": 343,
     "metadata": {},
     "output_type": "execute_result"
    }
   ],
   "source": [
    "x < 6"
   ]
  },
  {
   "cell_type": "code",
   "execution_count": 344,
   "id": "fed5f67d",
   "metadata": {},
   "outputs": [
    {
     "data": {
      "text/plain": [
       "array([[5, 0, 3, 3],\n",
       "       [7, 9, 3, 5],\n",
       "       [2, 4, 7, 6]])"
      ]
     },
     "execution_count": 344,
     "metadata": {},
     "output_type": "execute_result"
    }
   ],
   "source": [
    "x"
   ]
  },
  {
   "cell_type": "code",
   "execution_count": 345,
   "id": "e5ce14c5",
   "metadata": {},
   "outputs": [
    {
     "data": {
      "text/plain": [
       "8"
      ]
     },
     "execution_count": 345,
     "metadata": {},
     "output_type": "execute_result"
    }
   ],
   "source": [
    "#To count the number of True entries in a Boolean array, np.count_nonzero is useful\n",
    "np.count_nonzero(x < 6) "
   ]
  },
  {
   "cell_type": "markdown",
   "id": "0ec402aa",
   "metadata": {},
   "source": [
    "We see that there are eight array entries that are less than 6. Another way to get at this information is to use np.sum; in this case, False is interpreted as 0, and True is interpreted as 1:"
   ]
  },
  {
   "cell_type": "code",
   "execution_count": 346,
   "id": "e9da2709",
   "metadata": {},
   "outputs": [
    {
     "data": {
      "text/plain": [
       "8"
      ]
     },
     "execution_count": 346,
     "metadata": {},
     "output_type": "execute_result"
    }
   ],
   "source": [
    "np.sum(x < 6)"
   ]
  },
  {
   "cell_type": "code",
   "execution_count": 347,
   "id": "225e19c3",
   "metadata": {},
   "outputs": [
    {
     "data": {
      "text/plain": [
       "array([4, 2, 2])"
      ]
     },
     "execution_count": 347,
     "metadata": {},
     "output_type": "execute_result"
    }
   ],
   "source": [
    "# how many values less than 6 in each row?\n",
    "np.sum(x < 6, axis=1)"
   ]
  },
  {
   "cell_type": "code",
   "execution_count": 348,
   "id": "0cc29f11",
   "metadata": {},
   "outputs": [
    {
     "data": {
      "text/plain": [
       "array([0, 0, 0, 1])"
      ]
     },
     "execution_count": 348,
     "metadata": {},
     "output_type": "execute_result"
    }
   ],
   "source": [
    "np.sum(x==6,axis=0)"
   ]
  },
  {
   "cell_type": "code",
   "execution_count": 349,
   "id": "ce467b58",
   "metadata": {},
   "outputs": [
    {
     "data": {
      "text/plain": [
       "array([1, 1, 1, 0])"
      ]
     },
     "execution_count": 349,
     "metadata": {},
     "output_type": "execute_result"
    }
   ],
   "source": [
    "np.sum(x>6,axis=0)"
   ]
  },
  {
   "cell_type": "code",
   "execution_count": 350,
   "id": "d4cd6201",
   "metadata": {},
   "outputs": [
    {
     "data": {
      "text/plain": [
       "True"
      ]
     },
     "execution_count": 350,
     "metadata": {},
     "output_type": "execute_result"
    }
   ],
   "source": [
    "# are there any values greater than 8?\n",
    "np.any(x > 8)"
   ]
  },
  {
   "cell_type": "code",
   "execution_count": 351,
   "id": "b6c4f4e2",
   "metadata": {},
   "outputs": [
    {
     "data": {
      "text/plain": [
       "False"
      ]
     },
     "execution_count": 351,
     "metadata": {},
     "output_type": "execute_result"
    }
   ],
   "source": [
    "# are there any values less than zero?\n",
    "np.any(x < 0)"
   ]
  },
  {
   "cell_type": "code",
   "execution_count": 352,
   "id": "ee394b6c",
   "metadata": {},
   "outputs": [
    {
     "data": {
      "text/plain": [
       "True"
      ]
     },
     "execution_count": 352,
     "metadata": {},
     "output_type": "execute_result"
    }
   ],
   "source": [
    "# are all values less than 10?\n",
    "np.all(x < 10)"
   ]
  },
  {
   "cell_type": "code",
   "execution_count": 353,
   "id": "a3be6cd4",
   "metadata": {},
   "outputs": [
    {
     "data": {
      "text/plain": [
       "False"
      ]
     },
     "execution_count": 353,
     "metadata": {},
     "output_type": "execute_result"
    }
   ],
   "source": [
    "# are all values equal to 6?\n",
    "np.all(x == 6)"
   ]
  },
  {
   "cell_type": "code",
   "execution_count": 354,
   "id": "70729634",
   "metadata": {},
   "outputs": [
    {
     "data": {
      "text/plain": [
       "True"
      ]
     },
     "execution_count": 354,
     "metadata": {},
     "output_type": "execute_result"
    }
   ],
   "source": [
    "np.any(x==6)"
   ]
  },
  {
   "cell_type": "code",
   "execution_count": 355,
   "id": "0651d226",
   "metadata": {},
   "outputs": [
    {
     "data": {
      "text/plain": [
       "array([ True, False,  True])"
      ]
     },
     "execution_count": 355,
     "metadata": {},
     "output_type": "execute_result"
    }
   ],
   "source": [
    "# are all values in each row less than 8?\n",
    "np.all(x < 8, axis=1)"
   ]
  },
  {
   "cell_type": "markdown",
   "id": "02cea95a",
   "metadata": {},
   "source": [
    "### Boolean Operators\n"
   ]
  },
  {
   "cell_type": "code",
   "execution_count": 356,
   "id": "43ca4811",
   "metadata": {},
   "outputs": [
    {
     "data": {
      "text/plain": [
       "array([[5, 0, 3, 3],\n",
       "       [7, 9, 3, 5],\n",
       "       [2, 4, 7, 6]])"
      ]
     },
     "execution_count": 356,
     "metadata": {},
     "output_type": "execute_result"
    }
   ],
   "source": [
    "x"
   ]
  },
  {
   "cell_type": "code",
   "execution_count": 357,
   "id": "6cf2f98c",
   "metadata": {},
   "outputs": [
    {
     "data": {
      "text/plain": [
       "array([[False,  True,  True,  True],\n",
       "       [False, False,  True, False],\n",
       "       [ True,  True, False, False]])"
      ]
     },
     "execution_count": 357,
     "metadata": {},
     "output_type": "execute_result"
    }
   ],
   "source": [
    "x < 5"
   ]
  },
  {
   "cell_type": "markdown",
   "id": "ae20bc0d",
   "metadata": {},
   "source": [
    "Now to select these values from the array, we can simply index on this Boolean array; this is known as a masking operation:"
   ]
  },
  {
   "cell_type": "code",
   "execution_count": 358,
   "id": "436accac",
   "metadata": {},
   "outputs": [
    {
     "data": {
      "text/plain": [
       "array([0, 3, 3, 3, 2, 4])"
      ]
     },
     "execution_count": 358,
     "metadata": {},
     "output_type": "execute_result"
    }
   ],
   "source": [
    "x[x < 5]"
   ]
  },
  {
   "cell_type": "markdown",
   "id": "85d03a17",
   "metadata": {},
   "source": [
    "What is returned is a one-dimensional array filled with all the values that meet this condition; in other words, all the values in positions at which the mask array is True.\n",
    "\n",
    "One common point of confusion is the difference between the keywords and and or on one hand, and the operators & and | on the other hand. When would you use one versus the other?\n",
    "\n",
    "The difference is this: and and or gauge the truth or falsehood of entire object, while & and | refer to bits within each object.\n",
    "\n",
    "When you use and or or, it's equivalent to asking Python to treat the object as a single Boolean entity. In Python, all nonzero integers will evaluate as True. Thus:"
   ]
  },
  {
   "cell_type": "code",
   "execution_count": 359,
   "id": "e8db1b98",
   "metadata": {},
   "outputs": [
    {
     "data": {
      "text/plain": [
       "(True, False)"
      ]
     },
     "execution_count": 359,
     "metadata": {},
     "output_type": "execute_result"
    }
   ],
   "source": [
    "bool(42), bool(0)"
   ]
  },
  {
   "cell_type": "code",
   "execution_count": 360,
   "id": "49265c21",
   "metadata": {},
   "outputs": [
    {
     "data": {
      "text/plain": [
       "False"
      ]
     },
     "execution_count": 360,
     "metadata": {},
     "output_type": "execute_result"
    }
   ],
   "source": [
    "bool(42 and 0)"
   ]
  },
  {
   "cell_type": "code",
   "execution_count": 361,
   "id": "aa277330",
   "metadata": {},
   "outputs": [
    {
     "data": {
      "text/plain": [
       "True"
      ]
     },
     "execution_count": 361,
     "metadata": {},
     "output_type": "execute_result"
    }
   ],
   "source": [
    "bool(42 or 0)"
   ]
  },
  {
   "cell_type": "markdown",
   "id": "dfeb0ee4",
   "metadata": {},
   "source": [
    "When you have an array of Boolean values in NumPy, this can be thought of as a string of bits where 1 = True and 0 = False, and the result of & and | operates similarly to above:"
   ]
  },
  {
   "cell_type": "code",
   "execution_count": 362,
   "id": "44260666",
   "metadata": {},
   "outputs": [
    {
     "data": {
      "text/plain": [
       "array([ True,  True,  True, False,  True,  True])"
      ]
     },
     "execution_count": 362,
     "metadata": {},
     "output_type": "execute_result"
    }
   ],
   "source": [
    "A = np.array([1, 0, 1, 0, 1, 0], dtype=bool)\n",
    "B = np.array([1, 1, 1, 0, 1, 1], dtype=bool)\n",
    "A | B"
   ]
  },
  {
   "cell_type": "code",
   "execution_count": 363,
   "id": "0494a9de",
   "metadata": {},
   "outputs": [],
   "source": [
    "## Not well defined for dtype=bool\n",
    "#A or B  # To check uncomment"
   ]
  },
  {
   "cell_type": "code",
   "execution_count": 364,
   "id": "e5ad7e5f",
   "metadata": {},
   "outputs": [
    {
     "data": {
      "text/plain": [
       "array([False, False, False, False, False,  True,  True,  True, False,\n",
       "       False])"
      ]
     },
     "execution_count": 364,
     "metadata": {},
     "output_type": "execute_result"
    }
   ],
   "source": [
    "x = np.arange(10)\n",
    "(x > 4) & (x < 8)"
   ]
  },
  {
   "cell_type": "code",
   "execution_count": 365,
   "id": "45edae04",
   "metadata": {},
   "outputs": [],
   "source": [
    "#also, and operatory not dfined to compare the type of two arrays\n",
    "#(x > 4) and (x < 8) # To check uncomment"
   ]
  },
  {
   "cell_type": "markdown",
   "id": "0f7baeb0",
   "metadata": {},
   "source": [
    "So remember this: ``and`` and ``or`` perform a single Boolean evaluation on an entire object, while ``&`` and ``|`` perform multiple Boolean evaluations on the content (the individual bits or bytes) of an object. For Boolean NumPy arrays, the latter is nearly always the desired operation."
   ]
  },
  {
   "cell_type": "markdown",
   "id": "e1b8eede",
   "metadata": {},
   "source": [
    "## Basics of SciPy"
   ]
  },
  {
   "cell_type": "code",
   "execution_count": 366,
   "id": "7a3db53f",
   "metadata": {},
   "outputs": [
    {
     "data": {
      "image/png": "[encoded data removed]",
      "text/plain": [
       "<Figure size 640x480 with 1 Axes>"
      ]
     },
     "metadata": {},
     "output_type": "display_data"
    }
   ],
   "source": [
    "import numpy as np\n",
    "import matplotlib.pyplot as plt\n",
    "from scipy.integrate import odeint\n",
    "from mpl_toolkits.mplot3d import Axes3D\n",
    "\n",
    "rho = 28.0\n",
    "sigma = 10.0\n",
    "beta = 8.0 / 3.0\n",
    "\n",
    "def f(state, t):\n",
    "    x, y, z = state  # Unpack the state vector\n",
    "    return sigma * (y - x), x * (rho - z) - y, x * y - beta * z  # Derivatives\n",
    "\n",
    "state0 = [1.0, 1.0, 1.0]\n",
    "t = np.arange(0.0, 40.0, 0.01)\n",
    "\n",
    "states = odeint(f, state0, t)\n",
    "\n",
    "#fig = plt.figure()\n",
    "#ax = fig.gca(projection=\"3d\")\n",
    "fig = plt.figure()\n",
    "ax = fig.add_subplot(projection='3d')\n",
    "\n",
    "ax.plot(states[:, 0], states[:, 1], states[:, 2])\n",
    "plt.draw()\n",
    "plt.show()"
   ]
  },
  {
   "cell_type": "code",
   "execution_count": null,
   "id": "ff1c9c50",
   "metadata": {},
   "outputs": [],
   "source": []
  }
 ],
 "metadata": {
  "kernelspec": {
   "display_name": "Python 3.10.4 64-bit",
   "language": "python",
   "name": "python3"
  },
  "language_info": {
   "codemirror_mode": {
    "name": "ipython",
    "version": 3
   },
   "file_extension": ".py",
   "mimetype": "text/x-python",
   "name": "python",
   "nbconvert_exporter": "python",
   "pygments_lexer": "ipython3",
   "version": "3.10.4"
  },
  "vscode": {
   "interpreter": {
    "hash": "c97ba97dd0c5c1addcfcb064909bc97effd936a2db6e6fab2d2048519ee8a3cf"
   }
  }
 },
 "nbformat": 4,
 "nbformat_minor": 5
}
